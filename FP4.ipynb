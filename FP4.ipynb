{
 "cells": [
  {
   "cell_type": "markdown",
   "metadata": {},
   "source": [
    "<center> <h2> DS 3000 - Fall 2020</h2> </center>\n",
    "<center> <h3> DS Report </h3> </center>\n"
   ]
  },
  {
   "cell_type": "markdown",
   "metadata": {},
   "source": [
    "<center> <h3>Classifying Presidential Rhetoric: An Analysis of Speech Sentimentality and Readability</h3> </center>\n",
    "<center><h4>Eoin Daly, Constance Davis, and Mara Hubelbank</h4></center>"
   ]
  },
  {
   "cell_type": "markdown",
   "metadata": {},
   "source": [
    "  "
   ]
  },
  {
   "cell_type": "markdown",
   "metadata": {},
   "source": [
    "<hr style=\"height:2px; border:none; color:black; background-color:black;\">"
   ]
  },
  {
   "cell_type": "code",
   "execution_count": 136,
   "metadata": {},
   "outputs": [],
   "source": [
    "import pandas as pd\n",
    "\n",
    "from sklearn.feature_extraction.text import TfidfVectorizer\n",
    "from sklearn.feature_extraction import text\n",
    "from sklearn.preprocessing import KBinsDiscretizer \n",
    "from sklearn.model_selection import train_test_split\n",
    "from sklearn.tree import DecisionTreeRegressor\n",
    "from sklearn.tree import DecisionTreeClassifier\n",
    "from sklearn.feature_selection import SelectFromModel\n",
    "from sklearn.metrics import r2_score\n",
    "from sklearn.linear_model import LinearRegression\n",
    "from sklearn.feature_selection import RFE\n",
    "from sklearn.feature_selection import SelectKBest\n",
    "from sklearn.feature_selection import f_regression\n",
    "\n",
    "import numpy as np\n",
    "import matplotlib.pyplot as plt\n",
    "from matplotlib.lines import Line2D\n",
    "import seaborn as sns"
   ]
  },
  {
   "cell_type": "markdown",
   "metadata": {},
   "source": [
    "#### Executive Summary:\n",
    "\n",
    "Add your summary here (100-150 words)\n",
    "\n",
    "Provide a brief summary of your project. After reading this executive summary, your readers should have a rough understanding of what you did in this project. You can think of this summary in terms of the four sections of the report and write 1-2 sentences describing each section.\n",
    "\n"
   ]
  },
  {
   "cell_type": "markdown",
   "metadata": {},
   "source": [
    "<hr style=\"height:2px; border:none; color:black; background-color:black;\">"
   ]
  },
  {
   "cell_type": "markdown",
   "metadata": {},
   "source": [
    "## Outline\n",
    "1. <a href='#1'>INTRODUCTION</a>\n",
    "2. <a href='#2'>METHOD</a>\n",
    "3. <a href='#3'>RESULTS</a>\n",
    "4. <a href='#4'>DISCUSSION</a>"
   ]
  },
  {
   "cell_type": "markdown",
   "metadata": {},
   "source": [
    "<a id=\"1\"></a>\n",
    "<hr style=\"height:2px; border:none; color:black; background-color:black;\">"
   ]
  },
  {
   "cell_type": "markdown",
   "metadata": {},
   "source": [
    "## 1. INTRODUCTION"
   ]
  },
  {
   "cell_type": "markdown",
   "metadata": {},
   "source": [
    "In this section, orient your readers to your project. You've already written some of these in previous deliverables. Based on your final analysis, revise your problem statement and write a concise introduction section. This section should touch upon the following points, but should be written in full paragraphs. Your writing should incorporate all of these points (and more if you like) in a coherent way. Remember that you are trying to convince your readers that this is an important problem to tackle. \n",
    "\n",
    "Problem Statement\n",
    "* Describe the problem you would like to tackle. \n",
    "* What is the topic of your project? \n",
    "* What do you want to learn about it?\n",
    "\n",
    "Significance of the Problem\n",
    "* Why is it important to tackle this problem in your project?\n",
    "* In what ways could the insights from this project be useful?\n",
    "* **(optional)** Has there been previous work on your topic in terms of applying ML techniques to analyze similar datasets? Do some research into your topic. What algorithms were used? What was the performance of those algorithms? Cite your sources appropriately. You can use the numbered reference format or APA (if you are more comfortable with it).\n",
    "\n",
    "Questions/Hypothesis\n",
    "* End this section with a list of questions and hypotheses\n",
    "* You should tie these questions/hypotheses to the problem statement and its significance\n",
    "    * e.g. Given the aforementioned problem and its importance, we set out to tackle the following questions:\n",
    "    \n",
    "**Requirement:**\n",
    "* You should have at least one question tapping into the comparison of various machine learning algorithms (at least three) in predicting/classifying your target variable from your features variables.\n",
    "* You should have at least one hypothesis regarding the relationship between two variables, which may be different from your ML problem.\n",
    "\n",
    "While this section provides bullet points as prompts, your Introduction should consist of coherent paragraphs. As noted in the rubric, you are required delete all the prompts from this template, except for headings. Failing to do so will result in substantial point deductions.\n",
    "\n",
    "**Problem Statement and Significance**\n",
    "\n",
    "For our final project, we aim to analyze patterns in presidential speech in order to understand how the role of the president in establishing the national social agenda has changed over time. In particular, we focus on analyzing the sentimentality and readability of each presidential speech, and aim to extract from this time period-, party-, and speaker-specific trends. The rhetoric used by a nation’s leader is often a reflection of the issues most important to its people at a given point in time; as such, conducting a sentiment analysis of presidential speeches may offer insight into national trends of progressivism, and allow us to examine the changing significance of inclusivity within the United States leadership. \n",
    "\n",
    "**Previous Research**\n",
    "\n",
    "TBD. TODOM\n",
    "\n",
    "**Questions and Hypotheses**\n",
    "\n",
    "Given the task of understanding presidential speech sentimentality and readability, we set out to tackle the following questions:\n",
    "* Are there significant presidential speech sentimentality trends over time?\n",
    "* Which visualization types fit best for representing the attributes and trends of our dataset?\n",
    "* What machine learning algorithm (out of the ones we’ve seen used in class) can best classify the presidential speeches?\n",
    "* To what degree of accuracy can we get a machine learning algorithm to predict the aforementioned target variables? (Using cross-validation procedures)\n",
    "* Which feature variable will play the largest role in classification?\n",
    "* Can we train a machine learning classification algorithm to classify the political party from which the speeches came? (This will utilize only speech data from after 1936, when the Democratic and Republican parties established their modern platforms.)\n",
    "\n",
    "Using our final dataset, we plan to test multiple hypotheses regarding this issue. We hypothesize that:\n",
    "* The frequency of female-gendered terms will increase over time.\n",
    "* The frequency of male-gendered terms will decrease over time. \n",
    "* The use of religious language will decrease over time. \n",
    "* The use of equality-related rhetoric will decrease over time. \n",
    "* Religious language will be a key indicator of political party."
   ]
  },
  {
   "cell_type": "markdown",
   "metadata": {},
   "source": [
    "<a id=\"2\"></a>\n",
    "<hr style=\"height:2px; border:none; color:black; background-color:black;\">"
   ]
  },
  {
   "cell_type": "markdown",
   "metadata": {},
   "source": [
    "## 2. METHOD"
   ]
  },
  {
   "cell_type": "markdown",
   "metadata": {},
   "source": [
    "### 2.1. Data Acquisition\n",
    "\n",
    "* Describe where you obtained your data. Provide a link to the original source. \n",
    "* If you scraped your data, include your code as a **separate** script file.\n",
    "* Your data should be stored in an online repository (e.g., GitHub) and your code should retrieve your data from that online resource. You can read csv files from the Web in the same way that you read files from local drive.\n",
    "* Describe the dataset (i.e., what it is about) and the number of variables/rows included.\n"
   ]
  },
  {
   "cell_type": "markdown",
   "metadata": {},
   "source": [
    "The sources where we obtained the original data:\n",
    "* Corpus of Speeches, Presidents 1-44: http://www.thegrammarlab.com/?nor-portfolio=corpus-of-presidential-speeches-cops-and-a-clintontrump-corpus\n",
    "* Corpus of Speeches, 45th President: https://millercenter.org/the-presidency/presidential-speeches \n",
    "\n",
    "We have multiple scripts for scraping, which are attached. Additionally, when we first created our dataset, we did some of our feature extraction, and most of our preprocessing, this script is called *InitialExtractionAndDFCreation.ipynb* please review it, as the data we clean and extract additional features from is created by the *InitialExtractionAndDFCreation.ipynb* script. \n",
    "\n",
    "Our finite dataset has 997 rows, restricted by the number of presidential speeches; this data was acquired primarily using an online corpora, and we used web-scraping to acquire the speeches of the 45th president. We have multiple features in the dataset -- for readability, we consider such attributes as word count, sentence count, and average syllables per word, and for sentimentality, we consider the frequencies of gendered pronouns, and terms pertaining to race/religion. The target/outcome variables for our dataset include political party, president, and time period. \n",
    "\n",
    "Columns in our original dataset, created by *InitialExtractionAndDFCreation.ipynb*:\n",
    "* word_count : the number of words in a given speech (feature)\n",
    "* sentence_count : the number of sentences in a given speech (feature)\n",
    "* average_words : average number of words per sentence (feature)\n",
    "* average_syl_per_word : average number of syllables per word (feature)\n",
    "* flesch_kincaid_score : readability score (feature)\n",
    "* flesch_kincaid_grade_level : score for level of reading difficulty (feature)\n",
    "* total_gendered_terms : a sum of the gendered terms in the speech (feature)\n",
    "* female_gendered_terms : a sum of the female-gendered terms in the speech (feature)\n",
    "* male_gendered_terms : a sum of the male-gendered terms in the speech (feature)\n",
    "* terms_of_equality : a sum of the terms related to the concept of equality in the speech (feature)\n",
    "* terms_for_race : a sum of the terms related race in the speech (feature)\n",
    "* terms_for_religion : a sum of the terms related to religion in the speech (feature)\n",
    "* political_party : indicates the political party of the speech giver (outcome)\n",
    "    * 0 - independent\n",
    "    * 1 - Federalist\n",
    "    * 2 - Democratic-Republican\n",
    "    * 3 - Whig\n",
    "    * 4 - Republican pre-1865\n",
    "    * 5 - Democrat pre-1865\n",
    "    * 6 - National Union\n",
    "    * 7 - Democrat post-1865, pre-1961\n",
    "    * 8 - Republican post-1865, pre-1961\n",
    "    * 9 - Democrat post-1961\n",
    "    * 10 Republican post-1961\n",
    "* president : indicates the president who gave the speech by name (outcome)\n",
    "* time_period : indicates the political party of the speech giver (index indicating 20 year blocks since the beginning of the United States 0 - 11) (outcome)\n",
    "* year (feature)"
   ]
  },
  {
   "cell_type": "code",
   "execution_count": 7,
   "metadata": {},
   "outputs": [
    {
     "data": {
      "text/html": [
       "<div>\n",
       "<style scoped>\n",
       "    .dataframe tbody tr th:only-of-type {\n",
       "        vertical-align: middle;\n",
       "    }\n",
       "\n",
       "    .dataframe tbody tr th {\n",
       "        vertical-align: top;\n",
       "    }\n",
       "\n",
       "    .dataframe thead th {\n",
       "        text-align: right;\n",
       "    }\n",
       "</style>\n",
       "<table border=\"1\" class=\"dataframe\">\n",
       "  <thead>\n",
       "    <tr style=\"text-align: right;\">\n",
       "      <th></th>\n",
       "      <th>speech</th>\n",
       "      <th>word_count</th>\n",
       "      <th>sentence_count</th>\n",
       "      <th>average_words</th>\n",
       "      <th>average_syl_per_word</th>\n",
       "      <th>flesch_kincaid_score</th>\n",
       "      <th>flesch_kincaid_grade_level</th>\n",
       "      <th>total_gendered_terms</th>\n",
       "      <th>female_gendered_terms</th>\n",
       "      <th>male_gendered_terms</th>\n",
       "      <th>terms_of_equality</th>\n",
       "      <th>terms_for_race</th>\n",
       "      <th>terms_for_religion</th>\n",
       "      <th>political_party</th>\n",
       "      <th>president</th>\n",
       "      <th>time_period</th>\n",
       "      <th>year</th>\n",
       "    </tr>\n",
       "  </thead>\n",
       "  <tbody>\n",
       "    <tr>\n",
       "      <th>0</th>\n",
       "      <td>The personal inconveniences to the members of ...</td>\n",
       "      <td>3034</td>\n",
       "      <td>79</td>\n",
       "      <td>39.379747</td>\n",
       "      <td>1.708306</td>\n",
       "      <td>22.341881</td>\n",
       "      <td>19.926110</td>\n",
       "      <td>28</td>\n",
       "      <td>0</td>\n",
       "      <td>28</td>\n",
       "      <td>3</td>\n",
       "      <td>0</td>\n",
       "      <td>0</td>\n",
       "      <td>1</td>\n",
       "      <td>adams</td>\n",
       "      <td>0</td>\n",
       "      <td>1797</td>\n",
       "    </tr>\n",
       "    <tr>\n",
       "      <th>1</th>\n",
       "      <td>When it was first perceived, in early times, t...</td>\n",
       "      <td>2322</td>\n",
       "      <td>34</td>\n",
       "      <td>68.823529</td>\n",
       "      <td>1.690353</td>\n",
       "      <td>-6.024758</td>\n",
       "      <td>31.197344</td>\n",
       "      <td>14</td>\n",
       "      <td>0</td>\n",
       "      <td>14</td>\n",
       "      <td>3</td>\n",
       "      <td>1</td>\n",
       "      <td>3</td>\n",
       "      <td>1</td>\n",
       "      <td>adams</td>\n",
       "      <td>0</td>\n",
       "      <td>1797</td>\n",
       "    </tr>\n",
       "    <tr>\n",
       "      <th>2</th>\n",
       "      <td>Gentlemen of the Senate and Gentlemen of the H...</td>\n",
       "      <td>2224</td>\n",
       "      <td>59</td>\n",
       "      <td>38.661017</td>\n",
       "      <td>1.681205</td>\n",
       "      <td>25.364122</td>\n",
       "      <td>19.326016</td>\n",
       "      <td>12</td>\n",
       "      <td>5</td>\n",
       "      <td>7</td>\n",
       "      <td>1</td>\n",
       "      <td>4</td>\n",
       "      <td>1</td>\n",
       "      <td>1</td>\n",
       "      <td>adams</td>\n",
       "      <td>0</td>\n",
       "      <td>1798</td>\n",
       "    </tr>\n",
       "    <tr>\n",
       "      <th>3</th>\n",
       "      <td>As the safety and prosperity of nations ultima...</td>\n",
       "      <td>663</td>\n",
       "      <td>9</td>\n",
       "      <td>73.555556</td>\n",
       "      <td>1.731523</td>\n",
       "      <td>-14.310767</td>\n",
       "      <td>33.528643</td>\n",
       "      <td>5</td>\n",
       "      <td>0</td>\n",
       "      <td>5</td>\n",
       "      <td>0</td>\n",
       "      <td>0</td>\n",
       "      <td>3</td>\n",
       "      <td>1</td>\n",
       "      <td>adams</td>\n",
       "      <td>0</td>\n",
       "      <td>1798</td>\n",
       "    </tr>\n",
       "    <tr>\n",
       "      <th>4</th>\n",
       "      <td>It is with peculiar satisfaction that I meet t...</td>\n",
       "      <td>1500</td>\n",
       "      <td>37</td>\n",
       "      <td>41.459459</td>\n",
       "      <td>1.730000</td>\n",
       "      <td>18.395649</td>\n",
       "      <td>20.993189</td>\n",
       "      <td>7</td>\n",
       "      <td>0</td>\n",
       "      <td>7</td>\n",
       "      <td>1</td>\n",
       "      <td>0</td>\n",
       "      <td>0</td>\n",
       "      <td>1</td>\n",
       "      <td>adams</td>\n",
       "      <td>0</td>\n",
       "      <td>1799</td>\n",
       "    </tr>\n",
       "  </tbody>\n",
       "</table>\n",
       "</div>"
      ],
      "text/plain": [
       "                                              speech  word_count  \\\n",
       "0  The personal inconveniences to the members of ...        3034   \n",
       "1  When it was first perceived, in early times, t...        2322   \n",
       "2  Gentlemen of the Senate and Gentlemen of the H...        2224   \n",
       "3  As the safety and prosperity of nations ultima...         663   \n",
       "4  It is with peculiar satisfaction that I meet t...        1500   \n",
       "\n",
       "   sentence_count  average_words  average_syl_per_word  flesch_kincaid_score  \\\n",
       "0              79      39.379747              1.708306             22.341881   \n",
       "1              34      68.823529              1.690353             -6.024758   \n",
       "2              59      38.661017              1.681205             25.364122   \n",
       "3               9      73.555556              1.731523            -14.310767   \n",
       "4              37      41.459459              1.730000             18.395649   \n",
       "\n",
       "   flesch_kincaid_grade_level  total_gendered_terms  female_gendered_terms  \\\n",
       "0                   19.926110                    28                      0   \n",
       "1                   31.197344                    14                      0   \n",
       "2                   19.326016                    12                      5   \n",
       "3                   33.528643                     5                      0   \n",
       "4                   20.993189                     7                      0   \n",
       "\n",
       "   male_gendered_terms  terms_of_equality  terms_for_race  terms_for_religion  \\\n",
       "0                   28                  3               0                   0   \n",
       "1                   14                  3               1                   3   \n",
       "2                    7                  1               4                   1   \n",
       "3                    5                  0               0                   3   \n",
       "4                    7                  1               0                   0   \n",
       "\n",
       "   political_party president  time_period  year  \n",
       "0                1     adams            0  1797  \n",
       "1                1     adams            0  1797  \n",
       "2                1     adams            0  1798  \n",
       "3                1     adams            0  1798  \n",
       "4                1     adams            0  1799  "
      ]
     },
     "execution_count": 7,
     "metadata": {},
     "output_type": "execute_result"
    }
   ],
   "source": [
    "url = \"https://raw.githubusercontent.com/odaily/DS3000-Project/master/final_proj_dataset.csv\"\n",
    "df = pd.read_csv(url, index_col=0)\n",
    "df.head()"
   ]
  },
  {
   "cell_type": "code",
   "execution_count": 61,
   "metadata": {
    "collapsed": true
   },
   "outputs": [
    {
     "name": "stdout",
     "output_type": "stream",
     "text": [
      "object\n"
     ]
    }
   ],
   "source": []
  },
  {
   "cell_type": "markdown",
   "metadata": {},
   "source": [
    "### 2.2. Data Analysis\n",
    "* For your hypotheses, what are your IVs and DVs?\n",
    "* Specifically describe your predictive model. What outcome variable are you going to predict from what feature variables? Why do you think those are important predictors?\n",
    "* Describe why this is a supervised ML problem and identify the sub-category of the learning task (e.g. classification).\n",
    "* What machine learning algorithms are you going to use? **Why?** You should compare at least three algorithms.\n",
    "\n",
    "Our project primarily tackles a classification problem, as we plan to train our model to predict political party (binary classification), speaker (multiclass classification), and year (multiclass classification using feature discretization, nbins= 20). We also plan to experiment with regressive prediction, utilizing speech year as a continuous outcome variable. Algorithm-wise, we plan to experiment with each of the models covered in lecture, as the sklearn library makes it easy to compare the performance of multiple algorithms on a dataset (kNN, SVM, Naïve-Bayes, Decision Trees; Linear, Polynomial, Ridge, and Lasso regression). We are particularly interested in evaluating the importance of each feature, using univariate and model-based feature selection. As mentioned, we plan to try using feature discretization for the regressive prediction component; we also plan to experiment using both bag-of-words and n-grams for feature extraction. By experimenting with preliminary correlation visualizations, we will be able to gauge whether our features are likely to demonstrate predictive capabilities; either way, we may chose to expand our feature analysis into other linguistic components -- for example, it may be an interesting challenge to determine if there are certain words which maximize prediction accuracy of the model, or consider such features as speech location at different geographical scales.\n"
   ]
  },
  {
   "cell_type": "markdown",
   "metadata": {},
   "source": [
    "<a id=\"3\"></a>\n",
    "<hr style=\"height:2px; border:none; color:black; background-color:black;\">"
   ]
  },
  {
   "cell_type": "markdown",
   "metadata": {},
   "source": [
    "## 3. RESULTS"
   ]
  },
  {
   "cell_type": "markdown",
   "metadata": {},
   "source": [
    "### 3.1. Data Wrangling\n",
    "In this section, you should do the following and explain why you are doing what you are doing. For each, you should include your code in a cell, followed by a sample output. For instance, if you are one-hot encoding one of your variables, you should first describe what it is and why you are doing it. You should then include your code in a cell, and the sample output should be available as well.\n",
    "\n",
    "# TODO: sample outputs!\n",
    "\n",
    "* Perform simple data cleaning (delete extra columns, deal with NA values, etc.)\n",
    "* Perform data wrangling to get your features and target values (e.g., grouping your dataframe by columns, applying functions to format dataframes, etc.)\n",
    "* Preprocess your variables (e.g., scaling/transforming feature variables to normalize them)\n",
    "* Perform feature extraction (dummy variables, new features from existing features, etc.)\n",
    "* Use one feature selection technique to select a subset of your original features\n"
   ]
  },
  {
   "cell_type": "markdown",
   "metadata": {},
   "source": [
    "---------------------------------------------------------------------------------------------------------------------------\n",
    "**Part 1: Data Cleaning and Wrangling**\n",
    "\n",
    "Some of our data have incorrect or missing values for political party. Presidents should keep their same political affiliation as they had the year they first entered office; we will use data about when they entered office, find their political party for that year, and apply that to all rows for each president. Also, there are NaN values for time period for the speeches made by Donald Trump, FDR, and Ronald Reagan. This is because the years for these rows are truncated and are missing a year. The below scripts parse the year data, and clean up the aforementioned missing/truncated values.\n",
    "\n",
    "As mentioned in section 2, we did some of our feature extraction when we created our dataset, as well as most of our preprocessing (including handling NaN values); please reference the *InitialExtractionAndDFCreation.ipynb* script as needed."
   ]
  },
  {
   "cell_type": "code",
   "execution_count": 62,
   "metadata": {},
   "outputs": [],
   "source": [
    "# get the first year that the given president was in office\n",
    "def getFirstYear(presName):\n",
    "    return yearsAndNames[yearsAndNames['name'] == presName]['first year in office'].item()\n",
    "\n",
    "# convert the given party name (and year, if applicable) to its corresponding unique index\n",
    "def getPartyIndex(partyRaw, year):\n",
    "    if partyRaw == \"Independent\":\n",
    "        return 0\n",
    "    elif partyRaw == \"Federalist\":\n",
    "        return 1\n",
    "    elif partyRaw == \"Democratic-Republican\" or partyRaw == \"Democratic-Republican/National Republican\":\n",
    "        return 2\n",
    "    elif partyRaw == \"Whig\":\n",
    "        return 3\n",
    "    # these Republican-Democratic chunks are used to differentiate the changing party platforms;\n",
    "    # this is used by our model in predicting political party based on the speech features\n",
    "    elif partyRaw == \"Republican\" and year < 1865:\n",
    "        return 4\n",
    "    elif partyRaw == \"Democratic\" and year < 1865:\n",
    "        return 5\n",
    "    elif partyRaw == \"Republican/National Union\" or partyRaw == \"Democratic/National Union\":\n",
    "        return 6\n",
    "    elif partyRaw == \"Democratic\" and year >= 1865 and year < 1961:\n",
    "        return 7\n",
    "    elif partyRaw == \"Republican\" and year >= 1865 and year < 1961:\n",
    "        return 8\n",
    "    elif partyRaw == \"Democratic\" and year >= 1961:\n",
    "        return 9\n",
    "    elif partyRaw == \"Republican\" and year >= 1961:\n",
    "        return 10"
   ]
  },
  {
   "cell_type": "code",
   "execution_count": 63,
   "metadata": {
    "collapsed": true
   },
   "outputs": [],
   "source": [
    "# the data to get the year they took office\n",
    "yearsUrl = \"https://gist.githubusercontent.com/namuol/2657233/raw/74135b2637e624848c163759be9cd14ae33f5153/presidents.csv\"\n",
    "yearsDf = pd.read_csv(yearsUrl)\n",
    "yearsAndNames = pd.DataFrame(columns = [\"name\", \"first year in office\"])\n",
    "yearsAndNames[\"first year in office\"] = yearsDf['Took office '].str[-4:]\n",
    "namesRaw = yearsDf[\"President \"].str.split().str[-1].str.lower()\n",
    "yearsAndNames[\"name\"] = namesRaw\n",
    "\n",
    "# change certain names to match our naming conventions\n",
    "yearsAndNames.iloc[7] = ['vanburen', 1837]\n",
    "yearsAndNames.iloc[22] = ['bharrison', 1889]\n",
    "yearsAndNames.iloc[22] = ['bharrison', 1889]\n",
    "yearsAndNames.iloc[22] = ['bharrison', 1889]\n",
    "yearsAndNames.iloc[31] = ['fdroosevelt', 1933]\n",
    "yearsAndNames.iloc[42] = ['gwbush', 2001]\n",
    "yearsAndNames.iloc[5] = ['jqadams', 1825]\n",
    "yearsAndNames.iloc[35] = ['lbjohnson', 1963]\n",
    "yearsAndNames.loc[44]= ['trump', 2017]\n",
    "\n",
    "parties = []\n",
    "yearsAndNames['party'] = yearsDf['Party ']\n",
    "\n",
    "# add in trump's party manually (not present in corpora)\n",
    "yearsAndNames.loc[44]= ['trump', 2017, 'Republican']\n",
    "\n",
    "# parsing party and changing it to be an index \n",
    "for name in yearsAndNames['name']:\n",
    "    first_year = int(getFirstYear(name))\n",
    "    party = yearsAndNames[yearsAndNames['name']==name].party.item().strip()\n",
    "    parties.append(getPartyIndex(party, first_year))\n",
    "    \n",
    "# add the parties to the df\n",
    "yearsAndNames['party'] = parties\n",
    "\n",
    "# sets all president's political party to be the one it was when they entered office\n",
    "for name in yearsAndNames['name']:\n",
    "    first_year = int(getFirstYear(name))\n",
    "    df.loc[df.president == name, 'political_party'] = yearsAndNames[yearsAndNames['name']==name].party.item()\n",
    "\n",
    "# getting correct time period for trump from line 898\n",
    "trump_time_period = df.iloc[898]['time_period']\n",
    "# setting all of trump's data to match this\n",
    "df.loc[df.president == 'trump', 'time_period'] = trump_time_period\n",
    "\n",
    "# fixing the truncated years for two presidents\n",
    "df.at[208,'year'] = 1940\n",
    "df.at[814,'year'] = 1987\n",
    "\n",
    "#checking for null values in the df\n",
    "#df.isnull().sum()"
   ]
  },
  {
   "cell_type": "markdown",
   "metadata": {},
   "source": [
    "---------------------------------------------------------------------------------------------------------------------------\n",
    "**Part 2: Feature Extraction**\n",
    "\n",
    "The feature extraction we will perform includes getting the weight of certain words in the corpora, using the libraries of terms defined below. We then use the TfidfVectorizer to determine the relative importance of these terms per president. Lastly, we perform target extraction via binning time periods into equal-sized chunks."
   ]
  },
  {
   "cell_type": "code",
   "execution_count": 3,
   "metadata": {
    "collapsed": true
   },
   "outputs": [],
   "source": [
    "femaleGendered = [\"she\", \"her\", \"hers\", \"woman\", \"women\", \"girl\", \"girls\", \"female\"]\n",
    "maleGendered = [\"he\", \"him\", \"his\", \"man\", \"men\", \"boy\", \"boys\", \"male\"]\n",
    "equality = [\"equality\", \"equal\", \"fairness\", \"equal rights\", \"equal opportunities\", \"egalitarian\", \"egalitarianism\", \"equity\",\n",
    "           \"equitability\"]\n",
    "race = [\"white\", \"black\", \"asian\", \"indian\", \"african\", \"caucasian\", \"ethnicity\", \"european\", \"hispanic\", \"indigenous\", \n",
    "       \"racism\", \"minority\", \"race\", \"predjudice\", \"racial\", \"latin\", \"latino\", \"latina\", \"jewish\", \"jew\", \"african american\",\n",
    "        \"african-american\",\n",
    "       \"whites\", \"blacks\", \"people of color\", \"native american\", \"native\"]\n",
    "religion = [\"religion\", \"jewish\", \"christian\", \"hindu\", \"judaism\", \"hinduism\", \"christianity\", \"lutherian\", \"catholic\", \n",
    "           \"catholocism\", \"protestant\", \"protestantism\", \"god\", \"buddist\", \"buddism\", \"religous\"]"
   ]
  },
  {
   "cell_type": "code",
   "execution_count": 65,
   "metadata": {
    "collapsed": true
   },
   "outputs": [],
   "source": [
    "# sum the values of the given terms in the given dictionary\n",
    "def sumTermValues(terms, dictionary):\n",
    "    sum = 0\n",
    "    for term in terms:\n",
    "        if dictionary.get(term) is not None:\n",
    "            sum = sum + dictionary.get(term)\n",
    "    return sum"
   ]
  },
  {
   "cell_type": "code",
   "execution_count": 66,
   "metadata": {
    "collapsed": true
   },
   "outputs": [],
   "source": [
    "# use TfidfVectorizer to determine the importance values of the given terms for the given president4\n",
    "def getImportanceValue(president, terms):\n",
    "    speeches = []\n",
    "    \n",
    "    # add each speech to the dataframe\n",
    "    for speech in df[df['president'] == president]['speech']:\n",
    "        speeches.append(speech.lower())\n",
    "                \n",
    "    # NOTE: we cannot use English stop words, because it will ignore gendered terms like he/she\n",
    "    vectorizer = TfidfVectorizer(token_pattern=u'(?ui)\\\\b\\\\w*[a-z]+\\\\w*\\\\b')\n",
    "    vect = vectorizer.fit(speeches)\n",
    "    tfidf = vectorizer.fit_transform(speeches)\n",
    "    values = tfidf.toarray().tolist()\n",
    "    flatList = []\n",
    "    for elem in values:\n",
    "        flatList.extend(elem)\n",
    "    keys = vectorizer.get_feature_names()\n",
    "    dictionary = {} \n",
    "    for key in keys: \n",
    "        for value in flatList: \n",
    "            dictionary[key] = value \n",
    "            flatList.remove(value) \n",
    "            break \n",
    "    return sumTermValues(terms, dictionary)"
   ]
  },
  {
   "cell_type": "code",
   "execution_count": 67,
   "metadata": {
    "collapsed": true
   },
   "outputs": [],
   "source": [
    "# determine the importance value of the given terms in the given row\n",
    "def label_president(row, terms):\n",
    "    return getImportanceValue(row['president'], terms)"
   ]
  },
  {
   "cell_type": "code",
   "execution_count": 69,
   "metadata": {
    "collapsed": true
   },
   "outputs": [],
   "source": [
    "df['importance_of_equality'] = df.apply (lambda row: label_president(row, equality), axis=1)\n",
    "df['importance_of_race'] = df.apply (lambda row: label_president(row, race), axis=1)\n",
    "df['importance_of_religion'] = df.apply (lambda row: label_president(row, religion), axis=1)\n",
    "df['importance_of_female_gendered_terms'] = df.apply (lambda row: label_president(row, femaleGendered), axis=1)\n",
    "df['importance_of_male_gendered_terms'] = df.apply (lambda row: label_president(row, maleGendered), axis=1)"
   ]
  },
  {
   "cell_type": "code",
   "execution_count": 5,
   "metadata": {},
   "outputs": [
    {
     "ename": "NameError",
     "evalue": "name 'df' is not defined",
     "output_type": "error",
     "traceback": [
      "\u001b[1;31m---------------------------------------------------------------------------\u001b[0m",
      "\u001b[1;31mNameError\u001b[0m                                 Traceback (most recent call last)",
      "\u001b[1;32m<ipython-input-5-eef68dc8fc86>\u001b[0m in \u001b[0;36m<module>\u001b[1;34m\u001b[0m\n\u001b[0;32m      3\u001b[0m \u001b[1;31m# 1. create bins of 61 year periods of time and append this to the dataframe\u001b[0m\u001b[1;33m\u001b[0m\u001b[1;33m\u001b[0m\u001b[1;33m\u001b[0m\u001b[0m\n\u001b[0;32m      4\u001b[0m \u001b[0mdiscretizer\u001b[0m \u001b[1;33m=\u001b[0m \u001b[0mKBinsDiscretizer\u001b[0m\u001b[1;33m(\u001b[0m\u001b[0mn_bins\u001b[0m \u001b[1;33m=\u001b[0m \u001b[1;36m4\u001b[0m\u001b[1;33m,\u001b[0m \u001b[0mencode\u001b[0m \u001b[1;33m=\u001b[0m \u001b[1;34m'ordinal'\u001b[0m\u001b[1;33m,\u001b[0m \u001b[0mstrategy\u001b[0m \u001b[1;33m=\u001b[0m \u001b[1;34m'quantile'\u001b[0m\u001b[1;33m)\u001b[0m\u001b[1;33m\u001b[0m\u001b[1;33m\u001b[0m\u001b[0m\n\u001b[1;32m----> 5\u001b[1;33m \u001b[0mtime_period_discretized\u001b[0m \u001b[1;33m=\u001b[0m \u001b[0mdiscretizer\u001b[0m\u001b[1;33m.\u001b[0m\u001b[0mfit_transform\u001b[0m\u001b[1;33m(\u001b[0m\u001b[0mdf\u001b[0m\u001b[1;33m[\u001b[0m\u001b[1;34m'time_period'\u001b[0m\u001b[1;33m]\u001b[0m\u001b[1;33m.\u001b[0m\u001b[0mvalues\u001b[0m\u001b[1;33m.\u001b[0m\u001b[0mreshape\u001b[0m\u001b[1;33m(\u001b[0m\u001b[1;33m-\u001b[0m\u001b[1;36m1\u001b[0m\u001b[1;33m,\u001b[0m \u001b[1;36m1\u001b[0m\u001b[1;33m)\u001b[0m\u001b[1;33m)\u001b[0m\u001b[1;33m\u001b[0m\u001b[1;33m\u001b[0m\u001b[0m\n\u001b[0m\u001b[0;32m      6\u001b[0m \u001b[0mtime_period_df\u001b[0m \u001b[1;33m=\u001b[0m \u001b[0mpd\u001b[0m\u001b[1;33m.\u001b[0m\u001b[0mDataFrame\u001b[0m\u001b[1;33m(\u001b[0m\u001b[0mtime_period_discretized\u001b[0m\u001b[1;33m,\u001b[0m \u001b[0mcolumns\u001b[0m \u001b[1;33m=\u001b[0m \u001b[1;33m[\u001b[0m\u001b[1;34m'timePeriod60YearBin'\u001b[0m\u001b[1;33m]\u001b[0m\u001b[1;33m)\u001b[0m\u001b[1;33m\u001b[0m\u001b[1;33m\u001b[0m\u001b[0m\n\u001b[0;32m      7\u001b[0m \u001b[0mdf\u001b[0m \u001b[1;33m=\u001b[0m \u001b[0mpd\u001b[0m\u001b[1;33m.\u001b[0m\u001b[0mconcat\u001b[0m\u001b[1;33m(\u001b[0m\u001b[1;33m[\u001b[0m\u001b[0mdf\u001b[0m\u001b[1;33m,\u001b[0m \u001b[0mtime_period_df\u001b[0m\u001b[1;33m]\u001b[0m\u001b[1;33m,\u001b[0m \u001b[0maxis\u001b[0m\u001b[1;33m=\u001b[0m\u001b[1;36m1\u001b[0m\u001b[1;33m,\u001b[0m \u001b[0msort\u001b[0m\u001b[1;33m=\u001b[0m\u001b[1;32mFalse\u001b[0m\u001b[1;33m)\u001b[0m\u001b[1;33m\u001b[0m\u001b[1;33m\u001b[0m\u001b[0m\n",
      "\u001b[1;31mNameError\u001b[0m: name 'df' is not defined"
     ]
    }
   ],
   "source": [
    "# 1. create bins of 61-year periods of time and append this to the dataframe\n",
    "discretizer = KBinsDiscretizer(n_bins = 4, encode = 'ordinal', strategy = 'quantile')\n",
    "time_period_discretized = discretizer.fit_transform(df['time_period'].values.reshape(-1, 1))\n",
    "time_period_df = pd.DataFrame(time_period_discretized, columns = ['timePeriod60YearBin'])\n",
    "df = pd.concat([df, time_period_df], axis=1, sort=False)\n",
    "\n",
    "# 2. create bins of 122-year periods of time and append this to the dataframe\n",
    "discretizer = KBinsDiscretizer(n_bins = 2, encode = 'ordinal', strategy = 'quantile')\n",
    "time_period_discretized2 = discretizer.fit_transform(df['time_period'].values.reshape(-1, 1))\n",
    "time_period_df2 = pd.DataFrame(time_period_discretized2, columns = ['timePeriod100YearBin'])\n",
    "df = pd.concat([df, time_period_df2], axis=1, sort=False)"
   ]
  },
  {
   "cell_type": "markdown",
   "metadata": {},
   "source": [
    "---------------------------------------------------------------------------------------------------------------------------\n",
    "**Part 3: Feature Selection**\n",
    "\n",
    "In this section, we conduct feature selection using model-based, RFE, and univariate selection transformers. We then test its effect on the data using a Linear Regression model. We conclude that, since feature selection only decreases our model's accuracy, we will decline to feature select in our final model."
   ]
  },
  {
   "cell_type": "code",
   "execution_count": 139,
   "metadata": {
    "collapsed": true
   },
   "outputs": [
    {
     "name": "stdout",
     "output_type": "stream",
     "text": [
      "original results: \n",
      "r2_score for training set:  0.8932183414736633\n",
      "r2_score for testing set:  0.9101737557399923\n",
      "\n",
      "With selected features from model based selection: \n",
      "r2_score for training set:  0.8932183414736633\n",
      "r2_score for testing set:  0.9101737557399923\n",
      "\n",
      "original results: \n",
      "r2_score for training set:  0.8932183414736633\n",
      "r2_score for testing set:  0.9101737557399923\n",
      "\n",
      "With Selected Feature from RFE: \n",
      "r2_score for training set:  0.8809131133074091\n",
      "r2_score for testing set:  0.8983732597246381\n",
      "\n",
      "original results: \n",
      "r2_score for training set:  0.8932183414736633\n",
      "r2_score for testing set:  0.9101737557399923\n",
      "\n",
      "With Selected Features from Univariate: \n",
      "r2_score for training set:  0.8681246203657097\n",
      "r2_score for testing set:  0.8832530491617652\n"
     ]
    }
   ],
   "source": [
    "# TODOM: write a note here, move this section to model; change to loop\n",
    "\n",
    "y = df ['political_party']\n",
    "X = df.drop(columns=['timePeriod60YearBin', 'timePeriod100YearBin', 'political_party', 'time_period', 'president', 'speech'])\n",
    "\n",
    "X_train, X_test, y_train, y_test = train_test_split(X, y, test_size=0.20, random_state=300)\n",
    "\n",
    "selector = SelectFromModel(estimator=DecisionTreeRegressor(random_state = 3000), threshold = 'median').fit(X, y)\n",
    "selector.fit(X_train, y_train)\n",
    "X_train_selected = selector.transform(X_train)\n",
    "X_test_selected = selector.transform(X_test)\n",
    "\n",
    "model = LinearRegression().fit(X=X_train, y=y_train)\n",
    "print('original results: ')\n",
    "print('r2_score for training set: ', r2_score(y_train, model.predict(X_train)))\n",
    "print('r2_score for testing set: ', r2_score(y_test, model.predict(X_test)))\n",
    "\n",
    "model = LinearRegression().fit(X=X_train_selected, y=y_train)\n",
    "print()\n",
    "print('With selected features from model based selection: ')\n",
    "print('r2_score for training set: ', r2_score(y_train, model.predict(X_train_selected)))\n",
    "print('r2_score for testing set: ', r2_score(y_test, model.predict(X_test)))\n",
    "\n",
    "select = RFE(DecisionTreeRegressor(random_state = 3000), n_features_to_select = 10)\n",
    "select.fit(X_train, y_train)\n",
    "\n",
    "X_train_selected = select.transform(X_train)\n",
    "X_test_selected = select.transform(X_test)\n",
    "\n",
    "model = LinearRegression().fit(X=X_train, y=y_train)\n",
    "print()\n",
    "print('original results: ')\n",
    "print('r2_score for training set: ', r2_score(y_train, model.predict(X_train)))\n",
    "print('r2_score for testing set: ', r2_score(y_test, model.predict(X_test)))\n",
    "\n",
    "model = LinearRegression().fit(X=X_train_selected, y=y_train)\n",
    "print()\n",
    "print('With Selected Feature from RFE: ')\n",
    "print('r2_score for training set: ', r2_score(y_train, model.predict(X_train_selected)))\n",
    "print('r2_score for testing set: ', r2_score(y_test, model.predict(X_test_selected)))\n",
    "\n",
    "select = SelectKBest(score_func = f_regression, k = 10)\n",
    "select.fit(X_train, y_train)\n",
    "\n",
    "X_train_selected = select.transform(X_train)\n",
    "X_test_selected = select.transform(X_test)\n",
    "\n",
    "model = LinearRegression().fit(X=X_train, y=y_train)\n",
    "print()\n",
    "print('original results: ')\n",
    "print('r2_score for training set: ', r2_score(y_train, model.predict(X_train)))\n",
    "print('r2_score for testing set: ', r2_score(y_test, model.predict(X_test)))\n",
    "print()\n",
    "\n",
    "model = LinearRegression().fit(X=X_train_selected, y=y_train)\n",
    "print()\n",
    "print('With Selected Features from Univariate: ')\n",
    "print('r2_score for training set: ', r2_score(y_train, model.predict(X_train_selected)))\n",
    "print('r2_score for testing set: ', r2_score(y_test, model.predict(X_test_selected)))"
   ]
  },
  {
   "cell_type": "code",
   "execution_count": 48,
   "metadata": {
    "collapsed": true
   },
   "outputs": [],
   "source": [
    "df.to_csv(r'final_proj_dataset_with_importance.csv')"
   ]
  },
  {
   "cell_type": "markdown",
   "metadata": {},
   "source": [
    "### 3.2. Data Exploration\n",
    "* Generate appropriate data visualizations for your key variables identified in the previous section\n",
    "* You should have at least three visualizations (and at least two different visualization types)\n",
    "* For each visualization provide an explanation regarding the variables involved and an interpretation of the graph.\n",
    "* If you are using Plotly, insert your visualizations as images as well (upload the graph images to an online source, e.g. github, and embed those into the cells in Jupyter Notebook). This is a requirement.\n"
   ]
  },
  {
   "cell_type": "code",
   "execution_count": 22,
   "metadata": {},
   "outputs": [
    {
     "data": {
      "text/html": [
       "<div>\n",
       "<style scoped>\n",
       "    .dataframe tbody tr th:only-of-type {\n",
       "        vertical-align: middle;\n",
       "    }\n",
       "\n",
       "    .dataframe tbody tr th {\n",
       "        vertical-align: top;\n",
       "    }\n",
       "\n",
       "    .dataframe thead th {\n",
       "        text-align: right;\n",
       "    }\n",
       "</style>\n",
       "<table border=\"1\" class=\"dataframe\">\n",
       "  <thead>\n",
       "    <tr style=\"text-align: right;\">\n",
       "      <th></th>\n",
       "      <th>word_count</th>\n",
       "      <th>sentence_count</th>\n",
       "      <th>average_words</th>\n",
       "      <th>average_syl_per_word</th>\n",
       "      <th>flesch_kincaid_score</th>\n",
       "      <th>flesch_kincaid_grade_level</th>\n",
       "      <th>total_gendered_terms</th>\n",
       "      <th>female_gendered_terms</th>\n",
       "      <th>male_gendered_terms</th>\n",
       "      <th>terms_of_equality</th>\n",
       "      <th>...</th>\n",
       "      <th>terms_for_religion</th>\n",
       "      <th>political_party</th>\n",
       "      <th>president</th>\n",
       "      <th>time_period</th>\n",
       "      <th>year</th>\n",
       "      <th>importance_of_equality</th>\n",
       "      <th>importance_of_race</th>\n",
       "      <th>importance_of_religion</th>\n",
       "      <th>importance_of_female_gendered_terms</th>\n",
       "      <th>importance_of_male_gendered_terms</th>\n",
       "    </tr>\n",
       "  </thead>\n",
       "  <tbody>\n",
       "    <tr>\n",
       "      <th>944</th>\n",
       "      <td>1436</td>\n",
       "      <td>1</td>\n",
       "      <td>56.038462</td>\n",
       "      <td>1.704735</td>\n",
       "      <td>5.735349</td>\n",
       "      <td>26.380877</td>\n",
       "      <td>9</td>\n",
       "      <td>1</td>\n",
       "      <td>8</td>\n",
       "      <td>1</td>\n",
       "      <td>...</td>\n",
       "      <td>0</td>\n",
       "      <td>0.0</td>\n",
       "      <td>washington</td>\n",
       "      <td>0.0</td>\n",
       "      <td>1789</td>\n",
       "      <td>0.011076</td>\n",
       "      <td>0.015452</td>\n",
       "      <td>0.0</td>\n",
       "      <td>0.015452</td>\n",
       "      <td>0.067105</td>\n",
       "    </tr>\n",
       "    <tr>\n",
       "      <th>948</th>\n",
       "      <td>439</td>\n",
       "      <td>1</td>\n",
       "      <td>73.333333</td>\n",
       "      <td>1.601367</td>\n",
       "      <td>-3.073960</td>\n",
       "      <td>31.906128</td>\n",
       "      <td>9</td>\n",
       "      <td>0</td>\n",
       "      <td>9</td>\n",
       "      <td>0</td>\n",
       "      <td>...</td>\n",
       "      <td>1</td>\n",
       "      <td>0.0</td>\n",
       "      <td>washington</td>\n",
       "      <td>0.0</td>\n",
       "      <td>1789</td>\n",
       "      <td>0.011076</td>\n",
       "      <td>0.015452</td>\n",
       "      <td>0.0</td>\n",
       "      <td>0.015452</td>\n",
       "      <td>0.067105</td>\n",
       "    </tr>\n",
       "    <tr>\n",
       "      <th>947</th>\n",
       "      <td>854</td>\n",
       "      <td>1</td>\n",
       "      <td>39.181818</td>\n",
       "      <td>1.754098</td>\n",
       "      <td>18.668733</td>\n",
       "      <td>20.389270</td>\n",
       "      <td>0</td>\n",
       "      <td>0</td>\n",
       "      <td>0</td>\n",
       "      <td>0</td>\n",
       "      <td>...</td>\n",
       "      <td>0</td>\n",
       "      <td>0.0</td>\n",
       "      <td>washington</td>\n",
       "      <td>0.0</td>\n",
       "      <td>1790</td>\n",
       "      <td>0.011076</td>\n",
       "      <td>0.015452</td>\n",
       "      <td>0.0</td>\n",
       "      <td>0.015452</td>\n",
       "      <td>0.067105</td>\n",
       "    </tr>\n",
       "    <tr>\n",
       "      <th>946</th>\n",
       "      <td>1413</td>\n",
       "      <td>1</td>\n",
       "      <td>28.115385</td>\n",
       "      <td>1.510262</td>\n",
       "      <td>50.529732</td>\n",
       "      <td>13.196090</td>\n",
       "      <td>11</td>\n",
       "      <td>0</td>\n",
       "      <td>11</td>\n",
       "      <td>0</td>\n",
       "      <td>...</td>\n",
       "      <td>0</td>\n",
       "      <td>0.0</td>\n",
       "      <td>washington</td>\n",
       "      <td>0.0</td>\n",
       "      <td>1790</td>\n",
       "      <td>0.011076</td>\n",
       "      <td>0.015452</td>\n",
       "      <td>0.0</td>\n",
       "      <td>0.015452</td>\n",
       "      <td>0.067105</td>\n",
       "    </tr>\n",
       "    <tr>\n",
       "      <th>945</th>\n",
       "      <td>1408</td>\n",
       "      <td>1</td>\n",
       "      <td>35.268293</td>\n",
       "      <td>1.648438</td>\n",
       "      <td>31.579870</td>\n",
       "      <td>17.616197</td>\n",
       "      <td>2</td>\n",
       "      <td>0</td>\n",
       "      <td>2</td>\n",
       "      <td>0</td>\n",
       "      <td>...</td>\n",
       "      <td>1</td>\n",
       "      <td>0.0</td>\n",
       "      <td>washington</td>\n",
       "      <td>0.0</td>\n",
       "      <td>1790</td>\n",
       "      <td>0.011076</td>\n",
       "      <td>0.015452</td>\n",
       "      <td>0.0</td>\n",
       "      <td>0.015452</td>\n",
       "      <td>0.067105</td>\n",
       "    </tr>\n",
       "  </tbody>\n",
       "</table>\n",
       "<p>5 rows × 21 columns</p>\n",
       "</div>"
      ],
      "text/plain": [
       "     word_count  sentence_count  average_words  average_syl_per_word  \\\n",
       "944        1436               1      56.038462              1.704735   \n",
       "948         439               1      73.333333              1.601367   \n",
       "947         854               1      39.181818              1.754098   \n",
       "946        1413               1      28.115385              1.510262   \n",
       "945        1408               1      35.268293              1.648438   \n",
       "\n",
       "     flesch_kincaid_score  flesch_kincaid_grade_level  total_gendered_terms  \\\n",
       "944              5.735349                   26.380877                     9   \n",
       "948             -3.073960                   31.906128                     9   \n",
       "947             18.668733                   20.389270                     0   \n",
       "946             50.529732                   13.196090                    11   \n",
       "945             31.579870                   17.616197                     2   \n",
       "\n",
       "     female_gendered_terms  male_gendered_terms  terms_of_equality  ...  \\\n",
       "944                      1                    8                  1  ...   \n",
       "948                      0                    9                  0  ...   \n",
       "947                      0                    0                  0  ...   \n",
       "946                      0                   11                  0  ...   \n",
       "945                      0                    2                  0  ...   \n",
       "\n",
       "     terms_for_religion  political_party   president time_period  year  \\\n",
       "944                   0              0.0  washington         0.0  1789   \n",
       "948                   1              0.0  washington         0.0  1789   \n",
       "947                   0              0.0  washington         0.0  1790   \n",
       "946                   0              0.0  washington         0.0  1790   \n",
       "945                   1              0.0  washington         0.0  1790   \n",
       "\n",
       "     importance_of_equality  importance_of_race  importance_of_religion  \\\n",
       "944                0.011076            0.015452                     0.0   \n",
       "948                0.011076            0.015452                     0.0   \n",
       "947                0.011076            0.015452                     0.0   \n",
       "946                0.011076            0.015452                     0.0   \n",
       "945                0.011076            0.015452                     0.0   \n",
       "\n",
       "     importance_of_female_gendered_terms  importance_of_male_gendered_terms  \n",
       "944                             0.015452                           0.067105  \n",
       "948                             0.015452                           0.067105  \n",
       "947                             0.015452                           0.067105  \n",
       "946                             0.015452                           0.067105  \n",
       "945                             0.015452                           0.067105  \n",
       "\n",
       "[5 rows x 21 columns]"
      ]
     },
     "execution_count": 22,
     "metadata": {},
     "output_type": "execute_result"
    }
   ],
   "source": [
    "url = \"https://raw.githubusercontent.com/odaily/DS3000-Project/master/final_proj_dataset_with_importance.csv\"\n",
    "df_viz = pd.read_csv(url, index_col=0)\n",
    "\n",
    "df_viz = df_viz.drop(columns=['speech']).sort_values(by=['year'])\n",
    "\n",
    "df_viz.head()"
   ]
  },
  {
   "cell_type": "markdown",
   "metadata": {},
   "source": [
    "----------------------------\n",
    "**3.2.1 Readability Vizualizations**\n",
    "\n",
    "Note: Grover Cleveland is the 22nd and 24th president, but these visualizations are person-wise, hence n=44."
   ]
  },
  {
   "cell_type": "code",
   "execution_count": 372,
   "metadata": {
    "scrolled": false
   },
   "outputs": [
    {
     "data": {
      "text/html": [
       "<div>\n",
       "<style scoped>\n",
       "    .dataframe tbody tr th:only-of-type {\n",
       "        vertical-align: middle;\n",
       "    }\n",
       "\n",
       "    .dataframe tbody tr th {\n",
       "        vertical-align: top;\n",
       "    }\n",
       "\n",
       "    .dataframe thead th {\n",
       "        text-align: right;\n",
       "    }\n",
       "</style>\n",
       "<table border=\"1\" class=\"dataframe\">\n",
       "  <thead>\n",
       "    <tr style=\"text-align: right;\">\n",
       "      <th></th>\n",
       "      <th>avg_score</th>\n",
       "      <th>avg_level</th>\n",
       "      <th>std_score</th>\n",
       "      <th>year</th>\n",
       "      <th>political_party</th>\n",
       "    </tr>\n",
       "    <tr>\n",
       "      <th>president</th>\n",
       "      <th></th>\n",
       "      <th></th>\n",
       "      <th></th>\n",
       "      <th></th>\n",
       "      <th></th>\n",
       "    </tr>\n",
       "  </thead>\n",
       "  <tbody>\n",
       "    <tr>\n",
       "      <th>roosevelt</th>\n",
       "      <td>35.743437</td>\n",
       "      <td>difficult</td>\n",
       "      <td>9.449651</td>\n",
       "      <td>1901</td>\n",
       "      <td>8.0</td>\n",
       "    </tr>\n",
       "    <tr>\n",
       "      <th>taft</th>\n",
       "      <td>30.522426</td>\n",
       "      <td>difficult</td>\n",
       "      <td>8.531517</td>\n",
       "      <td>1909</td>\n",
       "      <td>8.0</td>\n",
       "    </tr>\n",
       "    <tr>\n",
       "      <th>wilson</th>\n",
       "      <td>39.457326</td>\n",
       "      <td>difficult</td>\n",
       "      <td>14.945454</td>\n",
       "      <td>1913</td>\n",
       "      <td>7.0</td>\n",
       "    </tr>\n",
       "    <tr>\n",
       "      <th>harding</th>\n",
       "      <td>42.667467</td>\n",
       "      <td>difficult</td>\n",
       "      <td>8.536273</td>\n",
       "      <td>1917</td>\n",
       "      <td>8.0</td>\n",
       "    </tr>\n",
       "    <tr>\n",
       "      <th>coolidge</th>\n",
       "      <td>42.757928</td>\n",
       "      <td>difficult</td>\n",
       "      <td>3.512044</td>\n",
       "      <td>1923</td>\n",
       "      <td>8.0</td>\n",
       "    </tr>\n",
       "    <tr>\n",
       "      <th>hoover</th>\n",
       "      <td>39.229231</td>\n",
       "      <td>difficult</td>\n",
       "      <td>7.440248</td>\n",
       "      <td>1928</td>\n",
       "      <td>8.0</td>\n",
       "    </tr>\n",
       "    <tr>\n",
       "      <th>fdroosevelt</th>\n",
       "      <td>50.933558</td>\n",
       "      <td>fairly difficult</td>\n",
       "      <td>6.514588</td>\n",
       "      <td>1933</td>\n",
       "      <td>7.0</td>\n",
       "    </tr>\n",
       "    <tr>\n",
       "      <th>truman</th>\n",
       "      <td>59.713009</td>\n",
       "      <td>fairly difficult</td>\n",
       "      <td>8.179816</td>\n",
       "      <td>1945</td>\n",
       "      <td>7.0</td>\n",
       "    </tr>\n",
       "    <tr>\n",
       "      <th>nixon</th>\n",
       "      <td>53.592009</td>\n",
       "      <td>fairly difficult</td>\n",
       "      <td>7.963199</td>\n",
       "      <td>1952</td>\n",
       "      <td>10.0</td>\n",
       "    </tr>\n",
       "    <tr>\n",
       "      <th>eisenhower</th>\n",
       "      <td>47.778717</td>\n",
       "      <td>difficult</td>\n",
       "      <td>8.298730</td>\n",
       "      <td>1953</td>\n",
       "      <td>8.0</td>\n",
       "    </tr>\n",
       "    <tr>\n",
       "      <th>kennedy</th>\n",
       "      <td>48.287184</td>\n",
       "      <td>difficult</td>\n",
       "      <td>7.920954</td>\n",
       "      <td>1960</td>\n",
       "      <td>9.0</td>\n",
       "    </tr>\n",
       "    <tr>\n",
       "      <th>lbjohnson</th>\n",
       "      <td>56.752642</td>\n",
       "      <td>fairly difficult</td>\n",
       "      <td>7.199435</td>\n",
       "      <td>1963</td>\n",
       "      <td>9.0</td>\n",
       "    </tr>\n",
       "    <tr>\n",
       "      <th>reagan</th>\n",
       "      <td>56.451795</td>\n",
       "      <td>fairly difficult</td>\n",
       "      <td>6.945388</td>\n",
       "      <td>1964</td>\n",
       "      <td>10.0</td>\n",
       "    </tr>\n",
       "    <tr>\n",
       "      <th>ford</th>\n",
       "      <td>46.919438</td>\n",
       "      <td>difficult</td>\n",
       "      <td>8.488208</td>\n",
       "      <td>1974</td>\n",
       "      <td>10.0</td>\n",
       "    </tr>\n",
       "    <tr>\n",
       "      <th>carter</th>\n",
       "      <td>52.419236</td>\n",
       "      <td>fairly difficult</td>\n",
       "      <td>6.610209</td>\n",
       "      <td>1976</td>\n",
       "      <td>9.0</td>\n",
       "    </tr>\n",
       "    <tr>\n",
       "      <th>bush</th>\n",
       "      <td>58.197454</td>\n",
       "      <td>fairly difficult</td>\n",
       "      <td>8.550114</td>\n",
       "      <td>1988</td>\n",
       "      <td>10.0</td>\n",
       "    </tr>\n",
       "    <tr>\n",
       "      <th>clinton</th>\n",
       "      <td>58.574014</td>\n",
       "      <td>fairly difficult</td>\n",
       "      <td>5.414957</td>\n",
       "      <td>1993</td>\n",
       "      <td>9.0</td>\n",
       "    </tr>\n",
       "    <tr>\n",
       "      <th>gwbush</th>\n",
       "      <td>53.608405</td>\n",
       "      <td>fairly difficult</td>\n",
       "      <td>6.303224</td>\n",
       "      <td>2001</td>\n",
       "      <td>10.0</td>\n",
       "    </tr>\n",
       "    <tr>\n",
       "      <th>obama</th>\n",
       "      <td>59.680859</td>\n",
       "      <td>fairly difficult</td>\n",
       "      <td>5.296071</td>\n",
       "      <td>2008</td>\n",
       "      <td>9.0</td>\n",
       "    </tr>\n",
       "    <tr>\n",
       "      <th>trump</th>\n",
       "      <td>61.095524</td>\n",
       "      <td>standard</td>\n",
       "      <td>11.835075</td>\n",
       "      <td>2017</td>\n",
       "      <td>10.0</td>\n",
       "    </tr>\n",
       "  </tbody>\n",
       "</table>\n",
       "</div>"
      ],
      "text/plain": [
       "             avg_score         avg_level  std_score  year  political_party\n",
       "president                                                                 \n",
       "roosevelt    35.743437         difficult   9.449651  1901              8.0\n",
       "taft         30.522426         difficult   8.531517  1909              8.0\n",
       "wilson       39.457326         difficult  14.945454  1913              7.0\n",
       "harding      42.667467         difficult   8.536273  1917              8.0\n",
       "coolidge     42.757928         difficult   3.512044  1923              8.0\n",
       "hoover       39.229231         difficult   7.440248  1928              8.0\n",
       "fdroosevelt  50.933558  fairly difficult   6.514588  1933              7.0\n",
       "truman       59.713009  fairly difficult   8.179816  1945              7.0\n",
       "nixon        53.592009  fairly difficult   7.963199  1952             10.0\n",
       "eisenhower   47.778717         difficult   8.298730  1953              8.0\n",
       "kennedy      48.287184         difficult   7.920954  1960              9.0\n",
       "lbjohnson    56.752642  fairly difficult   7.199435  1963              9.0\n",
       "reagan       56.451795  fairly difficult   6.945388  1964             10.0\n",
       "ford         46.919438         difficult   8.488208  1974             10.0\n",
       "carter       52.419236  fairly difficult   6.610209  1976              9.0\n",
       "bush         58.197454  fairly difficult   8.550114  1988             10.0\n",
       "clinton      58.574014  fairly difficult   5.414957  1993              9.0\n",
       "gwbush       53.608405  fairly difficult   6.303224  2001             10.0\n",
       "obama        59.680859  fairly difficult   5.296071  2008              9.0\n",
       "trump        61.095524          standard  11.835075  2017             10.0"
      ]
     },
     "execution_count": 372,
     "metadata": {},
     "output_type": "execute_result"
    }
   ],
   "source": [
    "# First, we'll do some more manipulations of the Flesch-Kincaid Reading Ease Scores.\n",
    "'''\n",
    "We reference the following scale to categorize the continuous flesh_kincaid_score column:\n",
    "90-100 : Very Easy\n",
    "80-89 : Easy\n",
    "70-79 : Fairly Easy\n",
    "60-69 : Standard\n",
    "50-59 : Fairly Difficult\n",
    "30-49 : Difficult\n",
    "0-29 : Very Confusing\n",
    "Source:  https://bit.ly/343iUhf\n",
    "'''\n",
    "\n",
    "def level(score):\n",
    "    if score >= 90:\n",
    "        return \"very easy\"\n",
    "    elif score >= 80:\n",
    "        return \"easy\"\n",
    "    elif score >= 70:\n",
    "        return \"fairly easy\"\n",
    "    elif score >= 60:\n",
    "        return \"standard\"\n",
    "    elif score >= 50:\n",
    "        return \"fairly difficult\"\n",
    "    elif score>= 30:\n",
    "        return \"difficult\"\n",
    "    else:\n",
    "        return \"very confusing\"\n",
    "    \n",
    "df_viz_c = df_viz[['president', 'flesch_kincaid_score', 'year', 'political_party']].copy().reset_index().drop(columns='index')\n",
    "\n",
    "df_read = pd.DataFrame()\n",
    "df_read['avg_score'] = df_viz_c.groupby('president')['flesch_kincaid_score'].mean()\n",
    "df_read['avg_level'] = df_read['avg_score'].map(level)\n",
    "df_read['std_score'] = df_viz_c.groupby('president')['flesch_kincaid_score'].std()\n",
    "\n",
    "df_read = df_read.merge(df_viz_c, how='left', on='president')\n",
    "df_read = df_read.sort_values(by='year').drop_duplicates(subset='president').set_index('president').drop(columns=['flesch_kincaid_score'])\n",
    "\n",
    "df_read.tail(20)"
   ]
  },
  {
   "cell_type": "code",
   "execution_count": 299,
   "metadata": {},
   "outputs": [
    {
     "data": {
      "image/png": "[encoded data removed]",
      "text/plain": [
       "<Figure size 432x288 with 1 Axes>"
      ]
     },
     "metadata": {},
     "output_type": "display_data"
    }
   ],
   "source": [
    "# 1. Readability Level Averages, President-Wise (PIE)\n",
    "\n",
    "COLORS = ['#a4b6c1', '#2e598f', '#940f15', '#0c2141']\n",
    "TEXT_COLOR = '#ffffff' #'#ebead9'\n",
    "LABEL_TEXT_COLOR = '#2f2f2f'\n",
    "\n",
    "df_read_pie = pd.DataFrame()\n",
    "df_read_pie = df_read.groupby('avg_level').count().drop(columns=['std_score', 'year', 'political_party']).rename(columns = {'avg_score':'count'}) \n",
    "sort_lev = ['standard', 'fairly difficult', 'difficult', 'very confusing']\n",
    "df_read_pie = df_read_pie.reindex(sort_lev)\n",
    "\n",
    "def format_label(pct, data):\n",
    "    absolute = int(round(pct/100.*np.sum(data)))\n",
    "    return str(absolute) + \" (\" + str(int(round(pct))) + \"%)\"\n",
    "\n",
    "ax = plt.gca()\n",
    "texts = ax.pie(df_read_pie['count'], autopct=lambda pct: format_label(pct, df_read_pie['count']), colors=COLORS, startangle=90, wedgeprops=dict(linewidth=2, edgecolor='w'))\n",
    "plt.rcParams['font.size'] = 13\n",
    "plt.rcParams['text.color'] = TEXT_COLOR\n",
    "\n",
    "# Make the title\n",
    "ax.set_title(\"Readability Level Averages, \\nPresident-Wise (n=\" + str(sum(df_read_pie['count'])) + \")\", fontsize=18, color=LABEL_TEXT_COLOR)\n",
    "\n",
    "# Make the legend\n",
    "custom_lines = [Line2D([0], [0], color=c, marker=\"s\", markersize=10, linewidth=0, label=lab.title()) for c, lab in zip(COLORS, df_read_pie.index)]\n",
    "leg = plt.legend(handles=custom_lines, loc=\"center\", ncol=2, framealpha=0, bbox_to_anchor=(0.55, -0.05))\n",
    "for text in leg.get_texts():\n",
    "    plt.setp(text, color = LABEL_TEXT_COLOR, fontsize=14)\n",
    "    \n",
    "plt.tight_layout()\n",
    "plt.savefig('readability-pie.png')"
   ]
  },
  {
   "cell_type": "markdown",
   "metadata": {},
   "source": [
    "The above pie graph represents the distribution of the average readability levels of each president. We can see that there are three values not represented -- namely, the Very Easy, Easy, and Fairly Easy levels; moreover, there is only one president whose average readability level falls into Standard, President Trump. We can see that an overwhelming majority (75%) of presidential speeches fall into the Difficult and Very Confusing categories. According to the Flesh-Kincaid formula breakdown, the shorter the sentences and words contained within a text, the easier it is to read. From this definition coupled with this visualization, we can hypothesize that presidential speeches tend to be more complicated than the average English speaker's sentences.\n",
    "\n",
    "GitHub link: TODO"
   ]
  },
  {
   "cell_type": "code",
   "execution_count": 297,
   "metadata": {
    "scrolled": true
   },
   "outputs": [
    {
     "data": {
      "image/png": "[encoded data removed]",
      "text/plain": [
       "<Figure size 432x288 with 1 Axes>"
      ]
     },
     "metadata": {},
     "output_type": "display_data"
    }
   ],
   "source": [
    "# 2. Average Presidential Speech Readability Scores Over Time (LINE)\n",
    "\n",
    "TEXT_COLOR = '#2f2f2f'\n",
    "sns.set(rc={'axes.facecolor':'#dde8f0'})\n",
    "\n",
    "df_read.set_index('year')['avg_score'].plot(linewidth=2, color='#940f15')\n",
    "\n",
    "plt.xlabel(\"Year of President's First Speech\", labelpad=15, fontsize=14)\n",
    "plt.ylabel(\"President's Avg Score\", labelpad=15, fontsize=14)\n",
    "plt.title(\"Average Presidential Speech\\nReadability Scores Over Time (n=\" + str(len(df_read.index)) + \")\", \n",
    "          y=1.05, fontsize=17)\n",
    "\n",
    "plt.tight_layout()\n",
    "plt.savefig('readability-line.png')"
   ]
  },
  {
   "cell_type": "code",
   "execution_count": 379,
   "metadata": {},
   "outputs": [
    {
     "data": {
      "image/png": "[encoded data removed]",
      "text/plain": [
       "<Figure size 1152x360 with 1 Axes>"
      ]
     },
     "metadata": {},
     "output_type": "display_data"
    }
   ],
   "source": [
    "# 3. (STACKED BAR -- NEW VISUALIZATION TYPE)\n",
    "# Create a new dataframe to store the quantities of each subbar\n",
    "df_q = pd.DataFrame(columns=['political_party', 'standard', 'fairly difficult', 'difficult', 'very confusing'])\n",
    "\n",
    "# Get the size of the intersection of the given parameters\n",
    "def get_q(party, level):\n",
    "    return len(df_read[(df_read['political_party'] == party) & (df_read['avg_level'] == level)])\n",
    "\n",
    "# Get unique parties\n",
    "\n",
    "def no_nans(elem):\n",
    "    return str(elem) != 'nan'\n",
    "\n",
    "parties = sorted(list(filter(no_nans, df_read['political_party'].unique())))\n",
    "df_q['political_party'] = parties\n",
    "\n",
    "# Get unique readability levels\n",
    "levels = ['standard', 'fairly difficult', 'difficult', 'very confusing']\n",
    "\n",
    "# Add the quantity of each combination to the quantity dataframe\n",
    "for party in parties:\n",
    "    for level in levels:\n",
    "        df_q.loc[party, level] = get_q(party, level)\n",
    "        \n",
    "df_q.fillna(0, inplace=True)\n",
    "df_q.drop_duplicates(subset='political_party', inplace=True)\n",
    "\n",
    "# Some constants for the bar chart\n",
    "NUM_X = len(parties)\n",
    "BAR_WIDTH = 0.35 # width of each bar\n",
    "GRID_COLOR ='white'\n",
    "TEXT_COLOR = '#2f2f2f'\n",
    "COLORS = ['#0c2141', '#940f15', '#2e598f', '#a4b6c1']\n",
    "\n",
    "df_q = df_q.set_index(['political_party'])\n",
    "\n",
    "# Get the bar values for the given party as an array (percentages and raw)\n",
    "def get_vals(party): \n",
    "    std_raw = df_q.loc[party, 'standard']\n",
    "    f_diff_raw = df_q.loc[party, 'fairly difficult']\n",
    "    diff_raw = df_q.loc[party, 'difficult']\n",
    "    conf_raw = df_q.loc[party, 'very confusing']\n",
    "    \n",
    "    sum_raw = std_raw + f_diff_raw + diff_raw + conf_raw\n",
    "    cum_sums.append(sum_raw) \n",
    "    \n",
    "    if (sum_raw != 0):\n",
    "        std_perc = round(std_raw * 100 / sum_raw)\n",
    "        f_diff_perc = round(f_diff_raw * 100 / sum_raw)\n",
    "        diff_perc = round(diff_raw * 100 / sum_raw)\n",
    "        conf_perc = round(conf_raw * 100 / sum_raw)\n",
    "        \n",
    "        return np.array([std_perc, f_diff_perc, diff_perc, conf_perc, \n",
    "                         std_raw, f_diff_raw, diff_raw, conf_raw])\n",
    "    \n",
    "    return np.array([0, 0, 0, 0, 0, 0, 0, 0])\n",
    "\n",
    "# Plot a bar with the given values\n",
    "def plot_bar(index, values):\n",
    "    values_perc = values[:4]\n",
    "    values_raw = values[4:]\n",
    "    indices = np.repeat(index,repeats=len(values)) \n",
    "    cumsum_bottom_values = np.concatenate([np.zeros(1), np.cumsum(values)[:-1]], axis=0)     \n",
    "    for ind, perc, raw, bottom, color in zip(indices, values_perc, values_raw, cumsum_bottom_values, COLORS):\n",
    "        plt.bar(ind, perc, bottom=bottom, color=color, width=BAR_WIDTH)\n",
    "        plt.text(ind, bottom+perc/2, raw, ha=\"center\", va=\"center\", fontsize=16)\n",
    "\n",
    "plt.figure(figsize=(NUM_X * 1.6, 5)) # size of bar chart figure\n",
    "\n",
    "x = np.arange(1, NUM_X + 1, 1)\n",
    "\n",
    "cum_sums = []\n",
    "job_N_dict = {}\n",
    "i = 1\n",
    "for party in parties:\n",
    "    values = get_vals(party)\n",
    "    plot_bar(i, values)\n",
    "    i += 1   \n",
    "        \n",
    "# Get the axis attribute.\n",
    "ax = plt.gca()\n",
    "\n",
    "# Title the graph, calculating the sum of cumulative sums.        \n",
    "total = str(sum(cum_sums))\n",
    "plt.title('Distribution of Readability Levels by Political Party (n=' + total + ')', fontsize=24, pad=15, color=TEXT_COLOR)\n",
    "\n",
    "# Label the bars on x-axis with the cohort nums\n",
    "plt.xticks(x, parties, fontsize=18, color=TEXT_COLOR)\n",
    "\n",
    "# Label the y-axis with percentages\n",
    "y_vals = np.arange(0, 110, 20)\n",
    "y_labels = [(str(y) + '%') for y in y_vals] # min 0%, max 100%, step 10%\n",
    "plt.yticks(y_vals, y_labels, fontsize=16, color=TEXT_COLOR) # y-ticks (min, max, step)\n",
    "\n",
    "# Add the horizontal grid lines and remove the top and side borders.\n",
    "plt.grid(color=GRID_COLOR, which='major', axis='y', linestyle='solid', linewidth=2)\n",
    "ax.set_axisbelow(True)\n",
    "ax.set_xlabel('Political Party Index', fontsize=16, labelpad=10)\n",
    "\n",
    "# Make the legend (bottom center).\n",
    "custom_lines = [Line2D([0], [0], color=c, marker=\"s\", markersize=10, linewidth=0, label=lab) for c, lab in zip(COLORS, levels)]\n",
    "leg = ax.legend(handles=custom_lines, loc='upper center', bbox_to_anchor=(0.5, -0.30), ncol=len(levels), framealpha=0, prop={'size': 16})\n",
    "for text in leg.get_texts():\n",
    "    plt.setp(text, color = TEXT_COLOR, fontsize=18)\n",
    "    \n",
    "plt.tight_layout()\n",
    "plt.savefig('fig_23.png')"
   ]
  },
  {
   "cell_type": "code",
   "execution_count": 370,
   "metadata": {},
   "outputs": [
    {
     "data": {
      "text/html": [
       "<div>\n",
       "<style scoped>\n",
       "    .dataframe tbody tr th:only-of-type {\n",
       "        vertical-align: middle;\n",
       "    }\n",
       "\n",
       "    .dataframe tbody tr th {\n",
       "        vertical-align: top;\n",
       "    }\n",
       "\n",
       "    .dataframe thead th {\n",
       "        text-align: right;\n",
       "    }\n",
       "</style>\n",
       "<table border=\"1\" class=\"dataframe\">\n",
       "  <thead>\n",
       "    <tr style=\"text-align: right;\">\n",
       "      <th></th>\n",
       "      <th>standard</th>\n",
       "      <th>fairly difficult</th>\n",
       "      <th>difficult</th>\n",
       "      <th>very confusing</th>\n",
       "    </tr>\n",
       "    <tr>\n",
       "      <th>political_party</th>\n",
       "      <th></th>\n",
       "      <th></th>\n",
       "      <th></th>\n",
       "      <th></th>\n",
       "    </tr>\n",
       "  </thead>\n",
       "  <tbody>\n",
       "    <tr>\n",
       "      <th>0.0</th>\n",
       "      <td>0</td>\n",
       "      <td>0</td>\n",
       "      <td>0</td>\n",
       "      <td>1</td>\n",
       "    </tr>\n",
       "    <tr>\n",
       "      <th>1.0</th>\n",
       "      <td>0</td>\n",
       "      <td>0</td>\n",
       "      <td>0</td>\n",
       "      <td>1</td>\n",
       "    </tr>\n",
       "    <tr>\n",
       "      <th>2.0</th>\n",
       "      <td>0</td>\n",
       "      <td>0</td>\n",
       "      <td>2</td>\n",
       "      <td>2</td>\n",
       "    </tr>\n",
       "    <tr>\n",
       "      <th>3.0</th>\n",
       "      <td>0</td>\n",
       "      <td>0</td>\n",
       "      <td>0</td>\n",
       "      <td>4</td>\n",
       "    </tr>\n",
       "    <tr>\n",
       "      <th>5.0</th>\n",
       "      <td>0</td>\n",
       "      <td>0</td>\n",
       "      <td>0</td>\n",
       "      <td>0</td>\n",
       "    </tr>\n",
       "    <tr>\n",
       "      <th>6.0</th>\n",
       "      <td>0</td>\n",
       "      <td>0</td>\n",
       "      <td>1</td>\n",
       "      <td>4</td>\n",
       "    </tr>\n",
       "    <tr>\n",
       "      <th>7.0</th>\n",
       "      <td>0</td>\n",
       "      <td>0</td>\n",
       "      <td>1</td>\n",
       "      <td>1</td>\n",
       "    </tr>\n",
       "    <tr>\n",
       "      <th>8.0</th>\n",
       "      <td>0</td>\n",
       "      <td>2</td>\n",
       "      <td>1</td>\n",
       "      <td>1</td>\n",
       "    </tr>\n",
       "    <tr>\n",
       "      <th>9.0</th>\n",
       "      <td>0</td>\n",
       "      <td>0</td>\n",
       "      <td>10</td>\n",
       "      <td>2</td>\n",
       "    </tr>\n",
       "    <tr>\n",
       "      <th>10.0</th>\n",
       "      <td>0</td>\n",
       "      <td>4</td>\n",
       "      <td>1</td>\n",
       "      <td>0</td>\n",
       "    </tr>\n",
       "  </tbody>\n",
       "</table>\n",
       "</div>"
      ],
      "text/plain": [
       "                 standard  fairly difficult  difficult  very confusing\n",
       "political_party                                                       \n",
       "0.0                     0                 0          0               1\n",
       "1.0                     0                 0          0               1\n",
       "2.0                     0                 0          2               2\n",
       "3.0                     0                 0          0               4\n",
       "5.0                     0                 0          0               0\n",
       "6.0                     0                 0          1               4\n",
       "7.0                     0                 0          1               1\n",
       "8.0                     0                 2          1               1\n",
       "9.0                     0                 0         10               2\n",
       "10.0                    0                 4          1               0"
      ]
     },
     "execution_count": 370,
     "metadata": {},
     "output_type": "execute_result"
    }
   ],
   "source": [
    "df_q\n",
    "# TODOM: why is this mapping the colors wrong. who's to say? i am goinng to sleep"
   ]
  },
  {
   "cell_type": "code",
   "execution_count": 314,
   "metadata": {},
   "outputs": [],
   "source": [
    "# 4. (BOXPLOT-- NEW VISUALIZATION TYPE)\n"
   ]
  },
  {
   "cell_type": "markdown",
   "metadata": {},
   "source": [
    "----------------------------\n",
    "**3.2.2 Sentimentality Vizualizations**\n",
    "\n",
    "We experimented with scatterplot visualizations of the usage/importance of all the relevant features, and decided to keep in this report the female-gendered terms, terms for equality, terms for race, and terms for religion, as the male-gendered terms and total gendered term counts showed little to no variation."
   ]
  },
  {
   "cell_type": "code",
   "execution_count": 274,
   "metadata": {},
   "outputs": [],
   "source": [
    "# generate a scatterplot visualization of the given column, indicate whether it is raw or importance term data\n",
    "# first year of president's speech goes on y-axis\n",
    "def scatter(col, raw):\n",
    "    if raw:\n",
    "        df_avg = df_viz.sort_values(by=\"year\").groupby('president')[[col, 'year']].mean()\n",
    "        ax = sns.regplot(x=df_avg[\"year\"], y=df_avg[col], fit_reg=False)\n",
    "    else: # importance features\n",
    "        df_viz_unique = df_viz.sort_values(by=\"year\").drop_duplicates(subset=\"president\")\n",
    "        ax = sns.regplot(x=df_viz_unique[\"year\"], y=df_viz_unique[col], fit_reg=False)\n",
    "    plt.tight_layout()\n",
    "    plt.savefig(col + '_scatter.png')"
   ]
  },
  {
   "cell_type": "code",
   "execution_count": 275,
   "metadata": {},
   "outputs": [
    {
     "data": {
      "image/png": "[encoded data removed]",
      "text/plain": [
       "<Figure size 432x288 with 1 Axes>"
      ]
     },
     "metadata": {},
     "output_type": "display_data"
    }
   ],
   "source": [
    "# Usage of Female-Gendered Terms\n",
    "scatter('female_gendered_terms', True)"
   ]
  },
  {
   "cell_type": "code",
   "execution_count": 276,
   "metadata": {},
   "outputs": [
    {
     "data": {
      "image/png": "[encoded data removed]",
      "text/plain": [
       "<Figure size 432x288 with 1 Axes>"
      ]
     },
     "metadata": {},
     "output_type": "display_data"
    }
   ],
   "source": [
    "# Importance of Female-Gendered Terms\n",
    "scatter('importance_of_female_gendered_terms', False)"
   ]
  },
  {
   "cell_type": "code",
   "execution_count": 277,
   "metadata": {},
   "outputs": [
    {
     "data": {
      "image/png": "[encoded data removed]",
      "text/plain": [
       "<Figure size 432x288 with 1 Axes>"
      ]
     },
     "metadata": {},
     "output_type": "display_data"
    }
   ],
   "source": [
    "# Usage of Equality-Related Terms\n",
    "scatter('terms_of_equality', True)"
   ]
  },
  {
   "cell_type": "code",
   "execution_count": 279,
   "metadata": {},
   "outputs": [
    {
     "data": {
      "image/png": "[encoded data removed]",
      "text/plain": [
       "<Figure size 432x288 with 1 Axes>"
      ]
     },
     "metadata": {},
     "output_type": "display_data"
    }
   ],
   "source": [
    "# Importance of Equality-Related Terms\n",
    "scatter('importance_of_equality', False)"
   ]
  },
  {
   "cell_type": "code",
   "execution_count": 282,
   "metadata": {},
   "outputs": [
    {
     "data": {
      "image/png": "[encoded data removed]",
      "text/plain": [
       "<Figure size 432x288 with 1 Axes>"
      ]
     },
     "metadata": {},
     "output_type": "display_data"
    }
   ],
   "source": [
    "# Usage of Race-Related Terms\n",
    "scatter('terms_for_race', True)"
   ]
  },
  {
   "cell_type": "code",
   "execution_count": 283,
   "metadata": {},
   "outputs": [
    {
     "data": {
      "image/png": "[encoded data removed]",
      "text/plain": [
       "<Figure size 432x288 with 1 Axes>"
      ]
     },
     "metadata": {},
     "output_type": "display_data"
    }
   ],
   "source": [
    "# Importance of Race-Related Terms\n",
    "scatter('importance_of_race', False)"
   ]
  },
  {
   "cell_type": "code",
   "execution_count": 278,
   "metadata": {},
   "outputs": [
    {
     "data": {
      "image/png": "[encoded data removed]",
      "text/plain": [
       "<Figure size 432x288 with 1 Axes>"
      ]
     },
     "metadata": {},
     "output_type": "display_data"
    }
   ],
   "source": [
    "# Usage of Religious Terms\n",
    "scatter('terms_for_religion', True)"
   ]
  },
  {
   "cell_type": "code",
   "execution_count": 284,
   "metadata": {},
   "outputs": [
    {
     "data": {
      "image/png": "[encoded data removed]",
      "text/plain": [
       "<Figure size 432x288 with 1 Axes>"
      ]
     },
     "metadata": {},
     "output_type": "display_data"
    }
   ],
   "source": [
    "# Importance of Religious Terms\n",
    "scatter('importance_of_religion', True)"
   ]
  },
  {
   "cell_type": "code",
   "execution_count": 294,
   "metadata": {},
   "outputs": [
    {
     "data": {
      "image/png": "[encoded data removed]",
      "text/plain": [
       "<Figure size 432x288 with 1 Axes>"
      ]
     },
     "metadata": {},
     "output_type": "display_data"
    }
   ],
   "source": [
    "# Inter-feature correlation\n",
    "# NOTE: Constance you can play with these values if you wanna \n",
    "df_avg = df_viz.sort_values(by=\"year\").groupby('president')[['terms_for_religion', 'flesch_kincaid_score']].mean()\n",
    "ax = sns.regplot(x=df_avg[\"flesch_kincaid_score\"], y=df_avg['terms_for_religion'], fit_reg=False)"
   ]
  },
  {
   "cell_type": "markdown",
   "metadata": {},
   "source": [
    "### 3.3. Model Construction\n",
    "* Conduct your hypothesis test(s) here.\n",
    "* For your machine learning question(s), use the Training, Validation, and Testing approach through GridSearch\n",
    "* Apply machine learning algorithms (apply at least three different algorithms)\n",
    "* Train your algorithms"
   ]
  },
  {
   "cell_type": "markdown",
   "metadata": {},
   "source": [
    "### 3.4. Model Evaluation\n",
    "* Evaluate the performance of your algorithms on appropriate evaluation metrics, using your **validation set**\n",
    "    * Use at least two different metrics \n",
    "* Evaluate your results from multiple ML models and hypothesis tests\n",
    "    * What was the performance of each algorithm in plain English? Is there any indication of overfitting/underfitting?\n",
    "    * Was there a significant difference? Use the template from lecture slides when reporting the results of your hypothesis testing."
   ]
  },
  {
   "cell_type": "markdown",
   "metadata": {},
   "source": [
    "### 3.5. Model Optimization\n",
    "* Tune your models using appropriate hyperparameters\n",
    "* Explain why you are doing this (e.g., to avoid overfitting, etc.)"
   ]
  },
  {
   "cell_type": "markdown",
   "metadata": {},
   "source": [
    "### 3.6. Model Testing\n",
    "* Test your tuned algorithms using your **testing set**"
   ]
  },
  {
   "cell_type": "markdown",
   "metadata": {},
   "source": [
    "<a id=\"4\"></a>\n",
    "<hr style=\"height:2px; border:none; color:black; background-color:black;\">"
   ]
  },
  {
   "cell_type": "markdown",
   "metadata": {},
   "source": [
    "## 4. DISCUSSION\n",
    "* Interpret your findings from 3.4., 3.5, and 3.6\n",
    "    * Which algorithms did you compare?\n",
    "    * Which algorithm(s) revealed best performance?\n",
    "    * Which algorithm(s) should be used for your predictive model?\n",
    "    * Based on your findings, can we use the features in your dataset to predict the outcome variable you identified using the algorithms you've applied? (It is okay if the answer is no. We're interested in the process, not the performance of the model.)\n",
    "* For your hypotheses, interpret the results. What does it mean to have significant/non-significant differences with regards to your data?\n",
    "\n",
    "\n",
    "* End this section with a conclusion paragraph containing some pointers for future work\n",
    "    * (e.g., get more data/features, perform another analysis, etc.)"
   ]
  },
  {
   "cell_type": "markdown",
   "metadata": {},
   "source": [
    "<a id=\"5\"></a>\n",
    "<hr style=\"height:2px; border:none; color:black; background-color:black;\">"
   ]
  },
  {
   "cell_type": "markdown",
   "metadata": {},
   "source": [
    "## CONTRIBUTIONS\n",
    "* Describe each team member's contributions to the report (who did what in each section)\n",
    "* Remember this is a team effort!\n",
    "* Each member of your team will provide peer evaluation of other team members. Your final grade on the project will be based on those peer evaluations. A survey will be shared after the deadline for this deliverable."
   ]
  },
  {
   "cell_type": "markdown",
   "metadata": {},
   "source": [
    "### 0. Executive Summary\n",
    "- Mara: Final writeup, editing.\n",
    "- Constance: Writeup drafting.\n",
    "- Eoin: Writeup drafting.\n",
    "\n",
    "### 1. Introduction\n",
    "- Mara: Final writeup, editing.\n",
    "- Constance: Hypothesis/question drafting.\n",
    "\n",
    "### 2. Method\n",
    "\n",
    "**2.1 Data Acquisition**\n",
    "- Constance: Web scraping script for copora data, writeup.\n",
    "- Eoin: Web scraping script for Trump's speeches.\n",
    "- Mara: Editing (joining with FP3 writeup).\n",
    "\n",
    "**2.2 Data Analysis**\n",
    "- Mara: Final writeup, editing.\n",
    "- Constance, Eoin: Writeup drafting.\n",
    "\n",
    "### 3. Results\n",
    "**3.1 Data Wrangling**\n",
    "- Constance: Implementation.\n",
    "- Mara: Documentation, editing.\n",
    "\n",
    "**3.2 Data Exploration**\n",
    "- Mara: Visualizations, interpretations.\n",
    "\n",
    "**3.3 Model Construction**\n",
    "- Eoin: Implementation.\n",
    "- Mara: Documentation, editing.\n",
    "\n",
    "**3.4 Model Evaluation**\n",
    "- Eoin: Implementation.\n",
    "- Mara: Documentation, editing.\n",
    "\n",
    "**3.5 Model Optimization**\n",
    "- Eoin: Implementation.\n",
    "- Mara: Documentation, editing.\n",
    "\n",
    "**3.6 Model Testing**\n",
    "- Eoin: Implementation.\n",
    "- Mara: Documentation, editing.\n",
    "\n",
    "### 4. Discussion\n",
    "- Mara: Final writeup (interpretation and conclusion).\n",
    "- Constance, Eoin: Interpretation drafting."
   ]
  },
  {
   "cell_type": "code",
   "execution_count": null,
   "metadata": {
    "collapsed": true
   },
   "outputs": [],
   "source": []
  }
 ],
 "metadata": {
  "kernelspec": {
   "display_name": "Python 3",
   "language": "python",
   "name": "python3"
  },
  "language_info": {
   "codemirror_mode": {
    "name": "ipython",
    "version": 3
   },
   "file_extension": ".py",
   "mimetype": "text/x-python",
   "name": "python",
   "nbconvert_exporter": "python",
   "pygments_lexer": "ipython3",
   "version": "3.8.3"
  }
 },
 "nbformat": 4,
 "nbformat_minor": 2
}
