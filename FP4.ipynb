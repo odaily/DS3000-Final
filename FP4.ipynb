{
 "cells": [
  {
   "cell_type": "markdown",
   "metadata": {},
   "source": [
    "<center> <h2> DS 3000 - Fall 2020</h2> </center>\n",
    "<center> <h3> DS Report </h3> </center>\n"
   ]
  },
  {
   "cell_type": "markdown",
   "metadata": {},
   "source": [
    "<center> <h3> Project Title</h3> </center>\n",
    "<center><h4>Team Member Names</h4></center>\n"
   ]
  },
  {
   "cell_type": "markdown",
   "metadata": {},
   "source": [
    "  "
   ]
  },
  {
   "cell_type": "markdown",
   "metadata": {},
   "source": [
    "<hr style=\"height:2px; border:none; color:black; background-color:black;\">"
   ]
  },
  {
   "cell_type": "code",
   "execution_count": 2,
   "metadata": {},
   "outputs": [],
   "source": [
    "import pandas as pd\n",
    "from sklearn.feature_extraction.text import TfidfVectorizer\n",
    "from sklearn.feature_extraction import text\n"
   ]
  },
  {
   "cell_type": "markdown",
   "metadata": {},
   "source": [
    "#### Executive Summary:\n",
    "\n",
    "Add your summary here (100-150 words)\n",
    "\n",
    "Provide a brief summary of your project. After reading this executive summary, your readers should have a rough understanding of what you did in this project. You can think of this summary in terms of the four sections of the report and write 1-2 sentences describing each section.\n",
    "\n"
   ]
  },
  {
   "cell_type": "markdown",
   "metadata": {},
   "source": [
    "<hr style=\"height:2px; border:none; color:black; background-color:black;\">"
   ]
  },
  {
   "cell_type": "markdown",
   "metadata": {},
   "source": [
    "## Outline\n",
    "1. <a href='#1'>INTRODUCTION</a>\n",
    "2. <a href='#2'>METHOD</a>\n",
    "3. <a href='#3'>RESULTS</a>\n",
    "4. <a href='#4'>DISCUSSION</a>"
   ]
  },
  {
   "cell_type": "markdown",
   "metadata": {},
   "source": [
    "<a id=\"1\"></a>\n",
    "<hr style=\"height:2px; border:none; color:black; background-color:black;\">"
   ]
  },
  {
   "cell_type": "markdown",
   "metadata": {},
   "source": [
    "## 1. INTRODUCTION"
   ]
  },
  {
   "cell_type": "markdown",
   "metadata": {},
   "source": [
    "In this section, orient your readers to your project. You've already written some of these in previous deliverables. Based on your final analysis, revise your problem statement and write a concise introduction section. This section should touch upon the following points, but should be written in full paragraphs. Your writing should incorporate all of these points (and more if you like) in a coherent way. Remember that you are trying to convince your readers that this is an important problem to tackle. \n",
    "\n",
    "Problem Statement\n",
    "* Describe the problem you would like to tackle. \n",
    "* What is the topic of your project? \n",
    "* What do you want to learn about it?\n",
    "\n",
    "Significance of the Problem\n",
    "* Why is it important to tackle this problem in your project?\n",
    "* In what ways could the insights from this project be useful?\n",
    "* **(optional)** Has there been previous work on your topic in terms of applying ML techniques to analyze similar datasets? Do some research into your topic. What algorithms were used? What was the performance of those algorithms? Cite your sources appropriately. You can use the numbered reference format or APA (if you are more comfortable with it).\n",
    "\n",
    "Questions/Hypothesis\n",
    "* End this section with a list of questions and hypotheses\n",
    "* You should tie these questions/hypotheses to the problem statement and its significance\n",
    "    * e.g. Given the aforementioned problem and its importance, we set out to tackle the following questions:\n",
    "    \n",
    "**Requirement:**\n",
    "* You should have at least one question tapping into the comparison of various machine learning algorithms (at least three) in predicting/classifying your target variable from your features variables.\n",
    "* You should have at least one hypothesis regarding the relationship between two variables, which may be different from your ML problem.\n",
    "\n",
    "While this section provides bullet points as prompts, your Introduction should consist of coherent paragraphs. As noted in the rubric, you are required delete all the prompts from this template, except for headings. Failing to do so will result in substantial point deductions.\n",
    "\n",
    "**[IN PROGRESS]**\n",
    "\n",
    "For our final project, we plan to analyze patterns in presidential speech in order to understand how the role of the president in establishing the national social agenda has changed over time. In particular, we’d like to focus on tracking the prevalence of different themes over time using feature analysis. Using our final output dataset, we will be able to visualize the progression and popularity of different social issues in presidential rhetoric at different points in time. For example, we plan to look into such patterns as gender-specific pronouns, and analyze speech readability using the Flesh-Kincaid test. Our finite dataset has 997 rows, restricted by the number of presidential speeches; this data was acquired primarily using an online corpora, and we used web-scraping to acquire the speeches of the 45th president. We have multiple features in the dataset -- for readability, we consider such attributes as word count, sentence count, and average syllables per word, and for sentimentality, we consider the frequencies of gendered pronouns, and terms pertaining to race/religion. The target/outcome variables for our dataset include political party, president, and time period, the last of which is to be indexed using 20-year blocks. We plan to use this data primarily to visualize trends of progressivism in presidential speeches over time; however, we also plan to work towards training a model to predict these target variables.\n",
    "\n",
    "Questions regarding our dataset:\n",
    "\n",
    "* Are there significant presidential speech sentimentality trends over time?\n",
    "* Which visualization types fit best for representing the attributes and trends of our dataset?\n",
    "* What machine learning algorithm (out of the ones we’ve seen used in class) can best classify the presidential speeches?\n",
    "* To what degree of accuracy can we get a machine learning algorithm to predict the aforementioned target variables? (Using cross-validation procedures)\n",
    "* Which feature variable will play the largest role in classification?\n",
    "* Can we train a machine learning classification algorithm to classify the political party from which the speeches came? \n",
    "* (This will utilize only speech data from after 1936, when the Democratic and Republican parties established their modern platforms.)\n",
    "* We also plan to test multiple hypotheses, including:\n",
    "* The frequency of female-gendered terms will increase over time.\n",
    "* The frequency of male-gendered terms will decrease over time. \n",
    "* The use of religious language will decrease over time. \n",
    "* The use of equality-related rhetoric will decrease over time. \n",
    "* Religious language will be a key indicator of political party.\n",
    "\n",
    "\n",
    "Our project primarily tackles a classification problem, as we plan to train our model to predict political party (binary classification), speaker (multiclass classification), and year (multiclass classification using feature discretization, nbins= 20). We also plan to experiment with regressive prediction, utilizing speech year as a continuous outcome variable. Algorithm-wise, we plan to experiment with each of the models covered in lecture, as the sklearn library makes it easy to compare the performance of multiple algorithms on a dataset (kNN, SVM, Naïve-Bayes, Decision Trees; Linear, Polynomial, Ridge, and Lasso regression). We are particularly interested in evaluating the importance of each feature, using univariate and model-based feature selection. As mentioned, we plan to try using feature discretization for the regressive prediction component; we also plan to experiment using both bag-of-words and n-grams for feature extraction. By experimenting with preliminary correlation visualizations, we will be able to gauge whether our features are likely to demonstrate predictive capabilities; either way, we may chose to expand our feature analysis into other linguistic components -- for example, it may be an interesting challenge to determine if there are certain words which maximize prediction accuracy of the model, or consider such features as speech location at different geographical scales.\n"
   ]
  },
  {
   "cell_type": "markdown",
   "metadata": {},
   "source": [
    "<a id=\"2\"></a>\n",
    "<hr style=\"height:2px; border:none; color:black; background-color:black;\">"
   ]
  },
  {
   "cell_type": "markdown",
   "metadata": {},
   "source": [
    "## 2. METHOD"
   ]
  },
  {
   "cell_type": "markdown",
   "metadata": {},
   "source": [
    "### 2.1. Data Acquisition\n",
    "\n",
    "* Describe where you obtained your data. Provide a link to the original source. \n",
    "* If you scraped your data, include your code as a **separate** script file.\n",
    "* Your data should be stored in an online repository (e.g., GitHub) and your code should retrieve your data from that online resource. You can read csv files from the Web in the same way that you read files from local drive.\n",
    "* Describe the dataset (i.e., what it is about) and the number of variables/rows included.\n"
   ]
  },
  {
   "cell_type": "code",
   "execution_count": 3,
   "metadata": {},
   "outputs": [
    {
     "ename": "NameError",
     "evalue": "name 'pd' is not defined",
     "output_type": "error",
     "traceback": [
      "\u001b[1;31m---------------------------------------------------------------------------\u001b[0m",
      "\u001b[1;31mNameError\u001b[0m                                 Traceback (most recent call last)",
      "\u001b[1;32m<ipython-input-3-e74789619b4f>\u001b[0m in \u001b[0;36m<module>\u001b[1;34m\u001b[0m\n\u001b[0;32m      1\u001b[0m \u001b[0murl\u001b[0m \u001b[1;33m=\u001b[0m \u001b[1;34m\"https://raw.githubusercontent.com/odaily/DS3000-Project/master/final_proj_dataset3.csv\"\u001b[0m\u001b[1;33m\u001b[0m\u001b[1;33m\u001b[0m\u001b[0m\n\u001b[1;32m----> 2\u001b[1;33m \u001b[0mdf\u001b[0m \u001b[1;33m=\u001b[0m \u001b[0mpd\u001b[0m\u001b[1;33m.\u001b[0m\u001b[0mread_csv\u001b[0m\u001b[1;33m(\u001b[0m\u001b[0murl\u001b[0m\u001b[1;33m,\u001b[0m \u001b[0mindex_col\u001b[0m\u001b[1;33m=\u001b[0m\u001b[1;36m0\u001b[0m\u001b[1;33m)\u001b[0m\u001b[1;33m\u001b[0m\u001b[1;33m\u001b[0m\u001b[0m\n\u001b[0m",
      "\u001b[1;31mNameError\u001b[0m: name 'pd' is not defined"
     ]
    }
   ],
   "source": [
    "url = \"https://raw.githubusercontent.com/odaily/DS3000-Project/master/final_proj_dataset3.csv\"\n",
    "df = pd.read_csv(url, index_col=0)"
   ]
  },
  {
   "cell_type": "markdown",
   "metadata": {},
   "source": [
    "### 2.2. Data Analysis\n",
    "* For your hypotheses, what are your IVs and DVs?\n",
    "* Specifically describe your predictive model. What outcome variable are you going to predict from what feature variables? Why do you think those are important predictors?\n",
    "* Describe why this is a supervised ML problem and identify the sub-category of the learning task (e.g. classification).\n",
    "* What machine learning algorithms are you going to use? **Why?** You should compare at least three algorithms."
   ]
  },
  {
   "cell_type": "markdown",
   "metadata": {},
   "source": [
    "<a id=\"3\"></a>\n",
    "<hr style=\"height:2px; border:none; color:black; background-color:black;\">"
   ]
  },
  {
   "cell_type": "markdown",
   "metadata": {},
   "source": [
    "## 3. RESULTS"
   ]
  },
  {
   "cell_type": "code",
   "execution_count": null,
   "metadata": {},
   "outputs": [],
   "source": []
  },
  {
   "cell_type": "markdown",
   "metadata": {},
   "source": [
    "### 3.1. Data Wrangling\n",
    "In this section, you should do the following and explain why you are doing what you are doing. For each, you should include your code in a cell, followed by a sample output. For instance, if you are one-hot encoding one of your variables, you should first describe what it is and why you are doing it. You should then include your code in a cell, and the sample output should be available as well.\n",
    "\n",
    "* Perform simple data cleaning (delete extra columns, deal with NA values, etc.)\n",
    "* Perform data wrangling to get your features and target values (e.g., grouping your dataframe by columns, applying functions to format dataframes, etc.)\n",
    "* Preprocess your variables (e.g., scaling/transforming feature variables to normalize them)\n",
    "* Perform feature extraction (dummy variables, new features from existing features, etc.)\n",
    "* Use one feature selection technique to select a subset of your original features\n"
   ]
  },
  {
   "cell_type": "code",
   "execution_count": 141,
   "metadata": {},
   "outputs": [],
   "source": [
    "# CLEANING \n",
    "# Some of our data has incorrect or missing values for political party, presidents should keep their same political affiliation\n",
    "# as they had the year they first entered office, we will use data about when they entered office, find their political\n",
    "# party for that year, and apply that to all rows for each president.\n",
    "# Also, there are NaN values for time period for the speeches made by Donald Trump, FDR, and Ronald Reagan.\n",
    "# This is because the years for these rows are truncated and are missing a year"
   ]
  },
  {
   "cell_type": "code",
   "execution_count": 10,
   "metadata": {},
   "outputs": [],
   "source": [
    "def getFirstYear(presName):\n",
    "    return yearsAndNames[yearsAndNames['name'] == presName]['first year in office'].item()\n",
    "def getPartyIndex(partyRaw, year):\n",
    "    if partyRaw == \"Independent\":\n",
    "        return 0\n",
    "    elif partyRaw == \"Federalist\":\n",
    "        return 1\n",
    "    elif partyRaw == \"Democratic-Republican\" or partyRaw == \"Democratic-Republican/National Republican\":\n",
    "        return 2\n",
    "    elif partyRaw == \"Whig\":\n",
    "        return 3\n",
    "    elif partyRaw == \"Republican\" and year < 1865:\n",
    "        return 4\n",
    "    elif partyRaw == \"Democratic\" and year < 1865:\n",
    "        return 5\n",
    "    elif partyRaw == \"Republican/National Union\" or partyRaw == \"Democratic/National Union\":\n",
    "        return 6\n",
    "    elif partyRaw == \"Democratic\" and year >= 1865 and year < 1961:\n",
    "        return 7\n",
    "    elif partyRaw == \"Republican\" and year >= 1865 and year < 1961:\n",
    "        return 8\n",
    "    elif partyRaw == \"Democratic\" and year >= 1961:\n",
    "        return 9\n",
    "    elif partyRaw == \"Republican\" and year >= 1961:\n",
    "        return 10\n",
    "    "
   ]
  },
  {
   "cell_type": "code",
   "execution_count": 12,
   "metadata": {},
   "outputs": [
    {
     "name": "stdout",
     "output_type": "stream",
     "text": [
      "Index(['speech', 'word_count', 'sentence_count', 'average_words',\n",
      "       'average_syl_per_word', 'flesch_kincaid_score',\n",
      "       'flesch_kincaid_grade_level', 'total_gendered_terms',\n",
      "       'female_gendered_terms', 'male_gendered_terms', 'terms_of_equality',\n",
      "       'terms_for_race', 'terms_for_religion', 'political_party', 'president',\n",
      "       'time_period', 'year'],\n",
      "      dtype='object')\n"
     ]
    }
   ],
   "source": [
    "# the data to get the year they took office\n",
    "yearsUrl = \"https://gist.githubusercontent.com/namuol/2657233/raw/74135b2637e624848c163759be9cd14ae33f5153/presidents.csv\"\n",
    "yearsDf = pd.read_csv(yearsUrl)\n",
    "yearsAndNames = pd.DataFrame(columns = [\"name\", \"first year in office\"])\n",
    "yearsAndNames[\"first year in office\"] = yearsDf['Took office '].str[-4:]\n",
    "namesRaw = yearsDf[\"President \"].str.split().str[-1].str.lower()\n",
    "yearsAndNames[\"name\"] = namesRaw\n",
    "\n",
    "# changing certain names to match our naming conventions\n",
    "yearsAndNames.iloc[7] = ['vanburen', 1837]\n",
    "yearsAndNames.iloc[22] = ['bharrison', 1889]\n",
    "yearsAndNames.iloc[22] = ['bharrison', 1889]\n",
    "yearsAndNames.iloc[22] = ['bharrison', 1889]\n",
    "yearsAndNames.iloc[31] = ['fdroosevelt', 1933]\n",
    "yearsAndNames.iloc[42] = ['gwbush', 2001]\n",
    "yearsAndNames.iloc[5] = ['jqadams', 1825]\n",
    "yearsAndNames.iloc[35] = ['lbjohnson', 1963]\n",
    "yearsAndNames.loc[44]= ['trump', 2017]\n",
    "\n",
    "\n",
    "parties = []\n",
    "yearsAndNames['party'] = yearsDf['Party ']\n",
    "\n",
    "#adding in trump's party\n",
    "yearsAndNames.loc[44]= ['trump', 2017,'Republican']\n",
    "\n",
    "# parsing party and changing it to be an index \n",
    "for name in yearsAndNames['name']:\n",
    "    first_year = int(getFirstYear(name))\n",
    "    party = yearsAndNames[yearsAndNames['name']==name].party.item().strip()\n",
    "    parties.append(getPartyIndex(party, first_year))\n",
    "# adds the parties to the df\n",
    "yearsAndNames['party'] = parties\n",
    "\n",
    "# sets all president's political party to be the one it was when they entered the office\n",
    "for name in yearsAndNames['name']:\n",
    "    first_year = int(getFirstYear(name))\n",
    "    df.loc[df.president == name, 'political_party'] = yearsAndNames[yearsAndNames['name']==name].party.item()\n",
    "\n",
    "# fixing NaN time period values\n",
    "\n",
    "# getting correct time period for trump from line 898\n",
    "trump_time_period = df.iloc[898]['time_period']\n",
    "# setting all of trump's data to match this\n",
    "df.loc[df.president == 'trump', 'time_period'] = trump_time_period\n",
    "\n",
    "\n",
    "# fixing the truncated years for two presidents\n",
    "df.at[208,'year'] = 1940\n",
    "df.at[814,'year'] = 1987\n",
    "\n",
    "#checking for null values in the df\n",
    "#df.isnull().sum()\n",
    "\n",
    "# Our data is now clean!yh"
   ]
  },
  {
   "cell_type": "code",
   "execution_count": 19,
   "metadata": {},
   "outputs": [],
   "source": [
    "# library of gendered terms\n",
    "femaleGendered = [\"she\", \"her\", \"hers\", \"woman\", \"women\", \"girl\", \"girls\", \"female\"]\n",
    "maleGendered = [\"he\", \"him\", \"his\", \"man\", \"men\", \"boy\", \"boys\", \"male\"]\n",
    "equality = [\"equality\", \"equal\", \"fairness\", \"equal rights\", \"equal opportunities\", \"egalitarian\", \"egalitarianism\", \"equity\",\n",
    "           \"equitability\"]\n",
    "race = [\"white\", \"black\", \"asian\", \"indian\", \"african\", \"caucasian\", \"ethnicity\", \"european\", \"hispanic\", \"indigenous\", \n",
    "       \"racism\", \"minority\", \"race\", \"predjudice\", \"racial\", \"latin\", \"latino\", \"latina\", \"jewish\", \"jew\", \"african american\",\n",
    "        \"african-american\",\n",
    "       \"whites\", \"blacks\", \"people of color\", \"native american\", \"native\"]\n",
    "religion = [\"religion\", \"jewish\", \"christian\", \"hindu\", \"judaism\", \"hinduism\", \"christianity\", \"lutherian\", \"catholic\", \n",
    "           \"catholocism\", \"protestant\", \"protestantism\", \"god\", \"buddist\", \"buddism\", \"religous\"]"
   ]
  },
  {
   "cell_type": "code",
   "execution_count": 21,
   "metadata": {},
   "outputs": [],
   "source": [
    "# function that sums the values of the given terms in the given dictionary\n",
    "def sumTermValues(terms, dictionary):\n",
    "    sum = 0\n",
    "    for term in terms:\n",
    "        if dictionary.get(term) is not None:\n",
    "            sum = sum + dictionary.get(term)\n",
    "    return sum"
   ]
  },
  {
   "cell_type": "code",
   "execution_count": 38,
   "metadata": {},
   "outputs": [],
   "source": [
    "def getImportanceValue(president, terms):\n",
    "    speeches = []\n",
    "    \n",
    "    for speech in df[df['president'] == president]['speech']:\n",
    "        speeches.append(speech.lower())\n",
    "    # cannot use english stop words because it will ignore gendered terms like he/she\n",
    "    vectorizer = TfidfVectorizer(token_pattern=u'(?ui)\\\\b\\\\w*[a-z]+\\\\w*\\\\b')\n",
    "    vect = vectorizer.fit(speeches)\n",
    "    tfidf = vectorizer.fit_transform(speeches)\n",
    "    values = tfidf.toarray().tolist()\n",
    "    flatList = []\n",
    "    for elem in values:\n",
    "        flatList.extend(elem)\n",
    "    keys = vectorizer.get_feature_names()\n",
    "    dictionary = {} \n",
    "    for key in keys: \n",
    "        for value in flatList: \n",
    "            dictionary[key] = value \n",
    "            flatList.remove(value) \n",
    "            break \n",
    "    return sumTermValues(terms, dictionary)"
   ]
  },
  {
   "cell_type": "code",
   "execution_count": 33,
   "metadata": {},
   "outputs": [],
   "source": [
    "def label_president(row, terms):\n",
    "    return getImportanceValue(row['president'], terms)"
   ]
  },
  {
   "cell_type": "code",
   "execution_count": 26,
   "metadata": {},
   "outputs": [
    {
     "name": "stdout",
     "output_type": "stream",
     "text": [
      "female gendered:  0.0\n",
      "male gendered:  0.09788685122781018\n",
      "terms for equality:  0.014049437220047176\n",
      "terms for race:  0.0\n",
      "terms for religion:  0.0047080375310436864\n"
     ]
    }
   ],
   "source": [
    "# FEATURE EXTRACTION -- also my intial feature extraction counts move that here\n",
    "# The feature extraction we will perform includes getting the weight of certain words in the corpus.\n",
    "speeches = []\n",
    "for speech in df['speech']:\n",
    "    speeches.append(speech.lower())\n",
    "# cannot use english stop words because it will ignore gendered terms like he/she\n",
    "vectorizer = TfidfVectorizer(token_pattern=u'(?ui)\\\\b\\\\w*[a-z]+\\\\w*\\\\b', min_df=20)\n",
    "vect = vectorizer.fit(speeches)\n",
    "tfidf = vectorizer.fit_transform(speeches)\n",
    "values = tfidf.toarray().tolist()\n",
    "flatList = []\n",
    "for elem in values:\n",
    "    flatList.extend(elem)\n",
    "keys = vectorizer.get_feature_names()\n",
    "dictionary = {} \n",
    "for key in keys: \n",
    "    for value in flatList: \n",
    "        dictionary[key] = value \n",
    "        flatList.remove(value) \n",
    "        break \n",
    "\n",
    "# doing this for the entire corpus, should I do it per president or per time period -- I think per president \n",
    "# then the presidents of a certain time period will help the classification by time period\n",
    "print(\"female gendered: \", sumTermValues(femaleGendered, dictionary))\n",
    "print(\"male gendered: \", sumTermValues(maleGendered, dictionary))\n",
    "print(\"terms for equality: \", sumTermValues(equality, dictionary))\n",
    "print(\"terms for race: \", sumTermValues(race, dictionary))\n",
    "print(\"terms for religion: \", sumTermValues(religion, dictionary))\n"
   ]
  },
  {
   "cell_type": "code",
   "execution_count": 39,
   "metadata": {},
   "outputs": [
    {
     "data": {
      "text/html": [
       "<div>\n",
       "<style scoped>\n",
       "    .dataframe tbody tr th:only-of-type {\n",
       "        vertical-align: middle;\n",
       "    }\n",
       "\n",
       "    .dataframe tbody tr th {\n",
       "        vertical-align: top;\n",
       "    }\n",
       "\n",
       "    .dataframe thead th {\n",
       "        text-align: right;\n",
       "    }\n",
       "</style>\n",
       "<table border=\"1\" class=\"dataframe\">\n",
       "  <thead>\n",
       "    <tr style=\"text-align: right;\">\n",
       "      <th></th>\n",
       "      <th>speech</th>\n",
       "      <th>word_count</th>\n",
       "      <th>sentence_count</th>\n",
       "      <th>average_words</th>\n",
       "      <th>average_syl_per_word</th>\n",
       "      <th>flesch_kincaid_score</th>\n",
       "      <th>flesch_kincaid_grade_level</th>\n",
       "      <th>total_gendered_terms</th>\n",
       "      <th>female_gendered_terms</th>\n",
       "      <th>male_gendered_terms</th>\n",
       "      <th>terms_of_equality</th>\n",
       "      <th>terms_for_race</th>\n",
       "      <th>terms_for_religion</th>\n",
       "      <th>political_party</th>\n",
       "      <th>president</th>\n",
       "      <th>time_period</th>\n",
       "      <th>year</th>\n",
       "      <th>importance_of_equality</th>\n",
       "    </tr>\n",
       "  </thead>\n",
       "  <tbody>\n",
       "    <tr>\n",
       "      <th>0</th>\n",
       "      <td>&lt;title=\"Special Session Message to Congress\"&gt;\\...</td>\n",
       "      <td>3034</td>\n",
       "      <td>1</td>\n",
       "      <td>39.379747</td>\n",
       "      <td>1.708306</td>\n",
       "      <td>22.341881</td>\n",
       "      <td>19.926110</td>\n",
       "      <td>28</td>\n",
       "      <td>0</td>\n",
       "      <td>28</td>\n",
       "      <td>3</td>\n",
       "      <td>0</td>\n",
       "      <td>0</td>\n",
       "      <td>1.0</td>\n",
       "      <td>adams</td>\n",
       "      <td>0.0</td>\n",
       "      <td>1797</td>\n",
       "      <td>0.011198</td>\n",
       "    </tr>\n",
       "    <tr>\n",
       "      <th>1</th>\n",
       "      <td>&lt;title=\"Inaugural Address\"&gt;\\n&lt;date=\"March 4, 1...</td>\n",
       "      <td>2322</td>\n",
       "      <td>1</td>\n",
       "      <td>68.823529</td>\n",
       "      <td>1.690353</td>\n",
       "      <td>-6.024758</td>\n",
       "      <td>31.197344</td>\n",
       "      <td>14</td>\n",
       "      <td>0</td>\n",
       "      <td>14</td>\n",
       "      <td>3</td>\n",
       "      <td>1</td>\n",
       "      <td>3</td>\n",
       "      <td>1.0</td>\n",
       "      <td>adams</td>\n",
       "      <td>0.0</td>\n",
       "      <td>1797</td>\n",
       "      <td>0.011198</td>\n",
       "    </tr>\n",
       "    <tr>\n",
       "      <th>2</th>\n",
       "      <td>&lt;title=\"Second Annual Message\"&gt;\\n&lt;date=\"Decemb...</td>\n",
       "      <td>2224</td>\n",
       "      <td>1</td>\n",
       "      <td>38.661017</td>\n",
       "      <td>1.681205</td>\n",
       "      <td>25.364122</td>\n",
       "      <td>19.326016</td>\n",
       "      <td>12</td>\n",
       "      <td>5</td>\n",
       "      <td>7</td>\n",
       "      <td>1</td>\n",
       "      <td>4</td>\n",
       "      <td>1</td>\n",
       "      <td>1.0</td>\n",
       "      <td>adams</td>\n",
       "      <td>0.0</td>\n",
       "      <td>1798</td>\n",
       "      <td>0.011198</td>\n",
       "    </tr>\n",
       "    <tr>\n",
       "      <th>3</th>\n",
       "      <td>&lt;title=\"Proclamation of Day of Fasting, Humili...</td>\n",
       "      <td>663</td>\n",
       "      <td>1</td>\n",
       "      <td>73.555556</td>\n",
       "      <td>1.731523</td>\n",
       "      <td>-14.310767</td>\n",
       "      <td>33.528643</td>\n",
       "      <td>5</td>\n",
       "      <td>0</td>\n",
       "      <td>5</td>\n",
       "      <td>0</td>\n",
       "      <td>0</td>\n",
       "      <td>3</td>\n",
       "      <td>1.0</td>\n",
       "      <td>adams</td>\n",
       "      <td>0.0</td>\n",
       "      <td>1798</td>\n",
       "      <td>0.011198</td>\n",
       "    </tr>\n",
       "    <tr>\n",
       "      <th>4</th>\n",
       "      <td>&lt;title=\"Third Annual Message\"&gt;\\n&lt;date=\"Decembe...</td>\n",
       "      <td>1500</td>\n",
       "      <td>1</td>\n",
       "      <td>41.459459</td>\n",
       "      <td>1.730000</td>\n",
       "      <td>18.395649</td>\n",
       "      <td>20.993189</td>\n",
       "      <td>7</td>\n",
       "      <td>0</td>\n",
       "      <td>7</td>\n",
       "      <td>1</td>\n",
       "      <td>0</td>\n",
       "      <td>0</td>\n",
       "      <td>1.0</td>\n",
       "      <td>adams</td>\n",
       "      <td>0.0</td>\n",
       "      <td>1799</td>\n",
       "      <td>0.011198</td>\n",
       "    </tr>\n",
       "  </tbody>\n",
       "</table>\n",
       "</div>"
      ],
      "text/plain": [
       "                                              speech  word_count  \\\n",
       "0  <title=\"Special Session Message to Congress\">\\...        3034   \n",
       "1  <title=\"Inaugural Address\">\\n<date=\"March 4, 1...        2322   \n",
       "2  <title=\"Second Annual Message\">\\n<date=\"Decemb...        2224   \n",
       "3  <title=\"Proclamation of Day of Fasting, Humili...         663   \n",
       "4  <title=\"Third Annual Message\">\\n<date=\"Decembe...        1500   \n",
       "\n",
       "   sentence_count  average_words  average_syl_per_word  flesch_kincaid_score  \\\n",
       "0               1      39.379747              1.708306             22.341881   \n",
       "1               1      68.823529              1.690353             -6.024758   \n",
       "2               1      38.661017              1.681205             25.364122   \n",
       "3               1      73.555556              1.731523            -14.310767   \n",
       "4               1      41.459459              1.730000             18.395649   \n",
       "\n",
       "   flesch_kincaid_grade_level  total_gendered_terms  female_gendered_terms  \\\n",
       "0                   19.926110                    28                      0   \n",
       "1                   31.197344                    14                      0   \n",
       "2                   19.326016                    12                      5   \n",
       "3                   33.528643                     5                      0   \n",
       "4                   20.993189                     7                      0   \n",
       "\n",
       "   male_gendered_terms  terms_of_equality  terms_for_race  terms_for_religion  \\\n",
       "0                   28                  3               0                   0   \n",
       "1                   14                  3               1                   3   \n",
       "2                    7                  1               4                   1   \n",
       "3                    5                  0               0                   3   \n",
       "4                    7                  1               0                   0   \n",
       "\n",
       "   political_party president  time_period  year  importance_of_equality  \n",
       "0              1.0     adams          0.0  1797                0.011198  \n",
       "1              1.0     adams          0.0  1797                0.011198  \n",
       "2              1.0     adams          0.0  1798                0.011198  \n",
       "3              1.0     adams          0.0  1798                0.011198  \n",
       "4              1.0     adams          0.0  1799                0.011198  "
      ]
     },
     "execution_count": 39,
     "metadata": {},
     "output_type": "execute_result"
    }
   ],
   "source": [
    "#FEATURE SELECTION\n",
    "#print(\"trump terms for men: \", getImportanceValue('trump', equality))\n",
    "df['importance_of_equality'] = df.apply (lambda row: label_president(row, equality), axis=1)\n",
    "df['importance_of_race'] = df.apply (lambda row: label_president(row, race), axis=1)\n",
    "df['importance_of_religion'] = df.apply (lambda row: label_president(row, religion), axis=1)\n",
    "df['importance_of_female_gendered_terms'] = df.apply (lambda row: label_president(row, femaleGendered), axis=1)\n",
    "df['importance_of_male_gendered_terms'] = df.apply (lambda row: label_president(row, maleGendered), axis=1)\n"
   ]
  },
  {
   "cell_type": "code",
   "execution_count": 43,
   "metadata": {},
   "outputs": [
    {
     "data": {
      "text/html": [
       "<div>\n",
       "<style scoped>\n",
       "    .dataframe tbody tr th:only-of-type {\n",
       "        vertical-align: middle;\n",
       "    }\n",
       "\n",
       "    .dataframe tbody tr th {\n",
       "        vertical-align: top;\n",
       "    }\n",
       "\n",
       "    .dataframe thead th {\n",
       "        text-align: right;\n",
       "    }\n",
       "</style>\n",
       "<table border=\"1\" class=\"dataframe\">\n",
       "  <thead>\n",
       "    <tr style=\"text-align: right;\">\n",
       "      <th></th>\n",
       "      <th>speech</th>\n",
       "      <th>word_count</th>\n",
       "      <th>sentence_count</th>\n",
       "      <th>average_words</th>\n",
       "      <th>average_syl_per_word</th>\n",
       "      <th>flesch_kincaid_score</th>\n",
       "      <th>flesch_kincaid_grade_level</th>\n",
       "      <th>total_gendered_terms</th>\n",
       "      <th>female_gendered_terms</th>\n",
       "      <th>male_gendered_terms</th>\n",
       "      <th>...</th>\n",
       "      <th>terms_for_religion</th>\n",
       "      <th>political_party</th>\n",
       "      <th>president</th>\n",
       "      <th>time_period</th>\n",
       "      <th>year</th>\n",
       "      <th>importance_of_equality</th>\n",
       "      <th>importance_of_race</th>\n",
       "      <th>importance_of_religion</th>\n",
       "      <th>importance_of_female_gendered_terms</th>\n",
       "      <th>importance_of_male_gendered_terms</th>\n",
       "    </tr>\n",
       "  </thead>\n",
       "  <tbody>\n",
       "    <tr>\n",
       "      <th>0</th>\n",
       "      <td>&lt;title=\"Special Session Message to Congress\"&gt;\\...</td>\n",
       "      <td>3034</td>\n",
       "      <td>1</td>\n",
       "      <td>39.379747</td>\n",
       "      <td>1.708306</td>\n",
       "      <td>22.341881</td>\n",
       "      <td>19.926110</td>\n",
       "      <td>28</td>\n",
       "      <td>0</td>\n",
       "      <td>28</td>\n",
       "      <td>...</td>\n",
       "      <td>0</td>\n",
       "      <td>1.0</td>\n",
       "      <td>adams</td>\n",
       "      <td>0.0</td>\n",
       "      <td>1797</td>\n",
       "      <td>0.011198</td>\n",
       "      <td>0.0</td>\n",
       "      <td>0.004735</td>\n",
       "      <td>0.0</td>\n",
       "      <td>0.101795</td>\n",
       "    </tr>\n",
       "    <tr>\n",
       "      <th>1</th>\n",
       "      <td>&lt;title=\"Inaugural Address\"&gt;\\n&lt;date=\"March 4, 1...</td>\n",
       "      <td>2322</td>\n",
       "      <td>1</td>\n",
       "      <td>68.823529</td>\n",
       "      <td>1.690353</td>\n",
       "      <td>-6.024758</td>\n",
       "      <td>31.197344</td>\n",
       "      <td>14</td>\n",
       "      <td>0</td>\n",
       "      <td>14</td>\n",
       "      <td>...</td>\n",
       "      <td>3</td>\n",
       "      <td>1.0</td>\n",
       "      <td>adams</td>\n",
       "      <td>0.0</td>\n",
       "      <td>1797</td>\n",
       "      <td>0.011198</td>\n",
       "      <td>0.0</td>\n",
       "      <td>0.004735</td>\n",
       "      <td>0.0</td>\n",
       "      <td>0.101795</td>\n",
       "    </tr>\n",
       "    <tr>\n",
       "      <th>2</th>\n",
       "      <td>&lt;title=\"Second Annual Message\"&gt;\\n&lt;date=\"Decemb...</td>\n",
       "      <td>2224</td>\n",
       "      <td>1</td>\n",
       "      <td>38.661017</td>\n",
       "      <td>1.681205</td>\n",
       "      <td>25.364122</td>\n",
       "      <td>19.326016</td>\n",
       "      <td>12</td>\n",
       "      <td>5</td>\n",
       "      <td>7</td>\n",
       "      <td>...</td>\n",
       "      <td>1</td>\n",
       "      <td>1.0</td>\n",
       "      <td>adams</td>\n",
       "      <td>0.0</td>\n",
       "      <td>1798</td>\n",
       "      <td>0.011198</td>\n",
       "      <td>0.0</td>\n",
       "      <td>0.004735</td>\n",
       "      <td>0.0</td>\n",
       "      <td>0.101795</td>\n",
       "    </tr>\n",
       "    <tr>\n",
       "      <th>3</th>\n",
       "      <td>&lt;title=\"Proclamation of Day of Fasting, Humili...</td>\n",
       "      <td>663</td>\n",
       "      <td>1</td>\n",
       "      <td>73.555556</td>\n",
       "      <td>1.731523</td>\n",
       "      <td>-14.310767</td>\n",
       "      <td>33.528643</td>\n",
       "      <td>5</td>\n",
       "      <td>0</td>\n",
       "      <td>5</td>\n",
       "      <td>...</td>\n",
       "      <td>3</td>\n",
       "      <td>1.0</td>\n",
       "      <td>adams</td>\n",
       "      <td>0.0</td>\n",
       "      <td>1798</td>\n",
       "      <td>0.011198</td>\n",
       "      <td>0.0</td>\n",
       "      <td>0.004735</td>\n",
       "      <td>0.0</td>\n",
       "      <td>0.101795</td>\n",
       "    </tr>\n",
       "    <tr>\n",
       "      <th>4</th>\n",
       "      <td>&lt;title=\"Third Annual Message\"&gt;\\n&lt;date=\"Decembe...</td>\n",
       "      <td>1500</td>\n",
       "      <td>1</td>\n",
       "      <td>41.459459</td>\n",
       "      <td>1.730000</td>\n",
       "      <td>18.395649</td>\n",
       "      <td>20.993189</td>\n",
       "      <td>7</td>\n",
       "      <td>0</td>\n",
       "      <td>7</td>\n",
       "      <td>...</td>\n",
       "      <td>0</td>\n",
       "      <td>1.0</td>\n",
       "      <td>adams</td>\n",
       "      <td>0.0</td>\n",
       "      <td>1799</td>\n",
       "      <td>0.011198</td>\n",
       "      <td>0.0</td>\n",
       "      <td>0.004735</td>\n",
       "      <td>0.0</td>\n",
       "      <td>0.101795</td>\n",
       "    </tr>\n",
       "  </tbody>\n",
       "</table>\n",
       "<p>5 rows × 22 columns</p>\n",
       "</div>"
      ],
      "text/plain": [
       "                                              speech  word_count  \\\n",
       "0  <title=\"Special Session Message to Congress\">\\...        3034   \n",
       "1  <title=\"Inaugural Address\">\\n<date=\"March 4, 1...        2322   \n",
       "2  <title=\"Second Annual Message\">\\n<date=\"Decemb...        2224   \n",
       "3  <title=\"Proclamation of Day of Fasting, Humili...         663   \n",
       "4  <title=\"Third Annual Message\">\\n<date=\"Decembe...        1500   \n",
       "\n",
       "   sentence_count  average_words  average_syl_per_word  flesch_kincaid_score  \\\n",
       "0               1      39.379747              1.708306             22.341881   \n",
       "1               1      68.823529              1.690353             -6.024758   \n",
       "2               1      38.661017              1.681205             25.364122   \n",
       "3               1      73.555556              1.731523            -14.310767   \n",
       "4               1      41.459459              1.730000             18.395649   \n",
       "\n",
       "   flesch_kincaid_grade_level  total_gendered_terms  female_gendered_terms  \\\n",
       "0                   19.926110                    28                      0   \n",
       "1                   31.197344                    14                      0   \n",
       "2                   19.326016                    12                      5   \n",
       "3                   33.528643                     5                      0   \n",
       "4                   20.993189                     7                      0   \n",
       "\n",
       "   male_gendered_terms  ...  terms_for_religion  political_party  president  \\\n",
       "0                   28  ...                   0              1.0      adams   \n",
       "1                   14  ...                   3              1.0      adams   \n",
       "2                    7  ...                   1              1.0      adams   \n",
       "3                    5  ...                   3              1.0      adams   \n",
       "4                    7  ...                   0              1.0      adams   \n",
       "\n",
       "   time_period  year  importance_of_equality  importance_of_race  \\\n",
       "0          0.0  1797                0.011198                 0.0   \n",
       "1          0.0  1797                0.011198                 0.0   \n",
       "2          0.0  1798                0.011198                 0.0   \n",
       "3          0.0  1798                0.011198                 0.0   \n",
       "4          0.0  1799                0.011198                 0.0   \n",
       "\n",
       "   importance_of_religion  importance_of_female_gendered_terms  \\\n",
       "0                0.004735                                  0.0   \n",
       "1                0.004735                                  0.0   \n",
       "2                0.004735                                  0.0   \n",
       "3                0.004735                                  0.0   \n",
       "4                0.004735                                  0.0   \n",
       "\n",
       "   importance_of_male_gendered_terms  \n",
       "0                           0.101795  \n",
       "1                           0.101795  \n",
       "2                           0.101795  \n",
       "3                           0.101795  \n",
       "4                           0.101795  \n",
       "\n",
       "[5 rows x 22 columns]"
      ]
     },
     "execution_count": 43,
     "metadata": {},
     "output_type": "execute_result"
    }
   ],
   "source": [
    "df.head()"
   ]
  },
  {
   "cell_type": "code",
   "execution_count": 44,
   "metadata": {},
   "outputs": [],
   "source": [
    "df.to_csv(r'final_proj_dataset_with_importance.csv')"
   ]
  },
  {
   "cell_type": "markdown",
   "metadata": {},
   "source": [
    "### 3.2. Data Exploration\n",
    "* Generate appropriate data visualizations for your key variables identified in the previous section\n",
    "* You should have at least three visualizations (and at least two different visualization types)\n",
    "* For each visualization provide an explanation regarding the variables involved and an interpretation of the graph.\n",
    "* If you are using Plotly, insert your visualizations as images as well (upload the graph images to an online source, e.g. github, and embed those into the cells in Jupyter Notebook). This is a requirement.\n"
   ]
  },
  {
   "cell_type": "markdown",
   "metadata": {},
   "source": [
    "### 3.3. Model Construction\n",
    "* Conduct your hypothesis test(s) here.\n",
    "* For your machine learning question(s), use the Training, Validation, and Testing approach through GridSearch\n",
    "* Apply machine learning algorithms (apply at least three different algorithms)\n",
    "* Train your algorithms"
   ]
  },
  {
   "cell_type": "markdown",
   "metadata": {},
   "source": [
    "### 3.4. Model Evaluation\n",
    "* Evaluate the performance of your algorithms on appropriate evaluation metrics, using your **validation set**\n",
    "    * Use at least two different metrics \n",
    "* Evaluate your results from multiple ML models and hypothesis tests\n",
    "    * What was the performance of each algorithm in plain English? Is there any indication of overfitting/underfitting?\n",
    "    * Was there a significant difference? Use the template from lecture slides when reporting the results of your hypothesis testing."
   ]
  },
  {
   "cell_type": "markdown",
   "metadata": {},
   "source": [
    "### 3.5. Model Optimization\n",
    "* Tune your models using appropriate hyperparameters\n",
    "* Explain why you are doing this (e.g., to avoid overfitting, etc.)"
   ]
  },
  {
   "cell_type": "markdown",
   "metadata": {},
   "source": [
    "### 3.6. Model Testing\n",
    "* Test your tuned algorithms using your **testing set**"
   ]
  },
  {
   "cell_type": "markdown",
   "metadata": {},
   "source": [
    "<a id=\"4\"></a>\n",
    "<hr style=\"height:2px; border:none; color:black; background-color:black;\">"
   ]
  },
  {
   "cell_type": "markdown",
   "metadata": {},
   "source": [
    "## 4. DISCUSSION\n",
    "* Interpret your findings from 3.4., 3.5, and 3.6\n",
    "    * Which algorithms did you compare?\n",
    "    * Which algorithm(s) revealed best performance?\n",
    "    * Which algorithm(s) should be used for your predictive model?\n",
    "    * Based on your findings, can we use the features in your dataset to predict the outcome variable you identified using the algorithms you've applied? (It is okay if the answer is no. We're interested in the process, not the performance of the model.)\n",
    "* For your hypotheses, interpret the results. What does it mean to have significant/non-significant differences with regards to your data?\n",
    "\n",
    "\n",
    "* End this section with a conclusion paragraph containing some pointers for future work\n",
    "    * (e.g., get more data/features, perform another analysis, etc.)"
   ]
  },
  {
   "cell_type": "markdown",
   "metadata": {},
   "source": [
    "<a id=\"5\"></a>\n",
    "<hr style=\"height:2px; border:none; color:black; background-color:black;\">"
   ]
  },
  {
   "cell_type": "markdown",
   "metadata": {},
   "source": [
    "### CONTRIBUTIONS\n",
    "* Describe each team member's contributions to the report (who did what in each section)\n",
    "* Remember this is a team effort!\n",
    "* Each member of your team will provide peer evaluation of other team members. Your final grade on the project will be based on those peer evaluations. A survey will be shared after the deadline for this deliverable."
   ]
  },
  {
   "cell_type": "code",
   "execution_count": null,
   "metadata": {},
   "outputs": [],
   "source": []
  }
 ],
 "metadata": {
  "kernelspec": {
   "display_name": "Python 3",
   "language": "python",
   "name": "python3"
  },
  "language_info": {
   "codemirror_mode": {
    "name": "ipython",
    "version": 3
   },
   "file_extension": ".py",
   "mimetype": "text/x-python",
   "name": "python",
   "nbconvert_exporter": "python",
   "pygments_lexer": "ipython3",
   "version": "3.8.3"
  }
 },
 "nbformat": 4,
 "nbformat_minor": 2
}
