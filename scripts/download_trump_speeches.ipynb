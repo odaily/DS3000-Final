{
 "cells": [
  {
   "cell_type": "markdown",
   "metadata": {},
   "source": [
    "#### Script for retrieving all of the Trump speeches from the Miller Center's database. \n",
    "\n",
    "###### Scripts are taken in with no cleaning and match the formatting of the grammerLab's Corpus for speeches."
   ]
  },
  {
   "cell_type": "code",
   "execution_count": 1,
   "metadata": {},
   "outputs": [],
   "source": [
    "from lxml import html\n",
    "import requests"
   ]
  },
  {
   "cell_type": "code",
   "execution_count": 2,
   "metadata": {},
   "outputs": [],
   "source": [
    "# Loads offline site to lxml.html\n",
    "site = open('trump_speeches_index.html')\n",
    "tree = html.fromstring(site.read())\n",
    "site.close()"
   ]
  },
  {
   "cell_type": "code",
   "execution_count": 3,
   "metadata": {},
   "outputs": [],
   "source": [
    "# Get lists of the title of the hyperlinks as well as the lxml elements\n",
    "date_titles = tree.xpath('//span[@class=\"field-content\"]/a/text()')\n",
    "wanted_links = tree.xpath('//span[@class=\"field-content\"]/a')\n",
    "hrefs = []"
   ]
  },
  {
   "cell_type": "code",
   "execution_count": null,
   "metadata": {},
   "outputs": [],
   "source": [
    "# Extracting all the hrefs of the hyperlink elements\n",
    "for hyperlink in wanted_links:\n",
    "    hrefs.append(hyperlink.attrib['href'])"
   ]
  },
  {
   "cell_type": "code",
   "execution_count": null,
   "metadata": {},
   "outputs": [],
   "source": [
    "index=0\n",
    "# Loop through all the hrefs and get the transcripts from each site\n",
    "for link in hrefs:\n",
    "    r = requests.get(link)\n",
    "    r.encoding = 'utf-8'\n",
    "    page = html.fromstring(r.content)\n",
    "    transcript_tag = page.xpath('//div[@class=\"transcript-inner\"]')[0]\n",
    "    paras = transcript_tag.xpath('./p/text()')\n",
    "    transcript = '\\n'.join(paras)\n",
    "\n",
    "    title = date_titles[index]\n",
    "    colon = title.index(\":\")\n",
    "    date = title[:colon]\n",
    "    speech_title = title[colon+2:]\n",
    "\n",
    "    speech_index = f\"{index:3}\".replace(' ', '0')\n",
    "    file_name = f\"trump_speeches_{speech_index}.txt\"\n",
    "    f = open(f'trump/{file_name}', 'w+', encoding='utf-8')\n",
    "    f.write(f'<title=\"{speech_title}\">\\n')\n",
    "    f.write(f'<date=\"{date}\">\\n')\n",
    "    f.write(transcript)\n",
    "    f.close()\n",
    "    index += 1"
   ]
  }
 ],
 "metadata": {
  "kernelspec": {
   "display_name": "Python 3",
   "language": "python",
   "name": "python3"
  },
  "language_info": {
   "codemirror_mode": {
    "name": "ipython",
    "version": 3
   },
   "file_extension": ".py",
   "mimetype": "text/x-python",
   "name": "python",
   "nbconvert_exporter": "python",
   "pygments_lexer": "ipython3",
   "version": "3.8.3"
  }
 },
 "nbformat": 4,
 "nbformat_minor": 4
}
