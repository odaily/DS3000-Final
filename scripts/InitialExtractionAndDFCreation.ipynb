{
 "cells": [
  {
   "cell_type": "code",
   "execution_count": 1,
   "metadata": {
    "id": "RMYcy6GDdj89"
   },
   "outputs": [],
   "source": [
    "import pandas as pd\n",
    "import csv\n",
    "import os\n",
    "import collections\n",
    "import re"
   ]
  },
  {
   "cell_type": "code",
   "execution_count": 2,
   "metadata": {},
   "outputs": [],
   "source": [
    "def speechGrab(text):\n",
    "    lines = text.split('\\n')\n",
    "    speech_lines = lines[2:]\n",
    "    return \"\\n\".join(speech_lines)"
   ]
  },
  {
   "cell_type": "code",
   "execution_count": 3,
   "metadata": {},
   "outputs": [],
   "source": [
    "def wordCount(text):\n",
    "    words = text.split()\n",
    "    return len(words)"
   ]
  },
  {
   "cell_type": "code",
   "execution_count": 4,
   "metadata": {},
   "outputs": [],
   "source": [
    "def sentenceCount(text):\n",
    "    sentences = text.split(\".\")\n",
    "    return len(sentences)"
   ]
  },
  {
   "cell_type": "code",
   "execution_count": 5,
   "metadata": {},
   "outputs": [],
   "source": [
    "def getTimePeriod(text):\n",
    "    markers = [1780, 1800, 1820, 1840, 1860, 1880, 1900, 1920, 1940, 1960, 1980, 2000, 2020, 2024]\n",
    "    lines = text.split(\"\\n\")\n",
    "    for line in lines:\n",
    "        if line.startswith(\"<date=\"):\n",
    "            line = line.replace(\"\\\"\", \"\").replace(\">\", \"\").replace(\")\", \"\")\n",
    "            date = int(line[-4:])\n",
    "    for x in range(13):\n",
    "        if date >= markers[x] and date < markers[x+1]:\n",
    "            return int(x)"
   ]
  },
  {
   "cell_type": "code",
   "execution_count": 6,
   "metadata": {},
   "outputs": [],
   "source": [
    "def avgSentLength(text):\n",
    "    sentences = text.split(\".\")\n",
    "    lengths = []\n",
    "    for sentence in sentences:\n",
    "        lengths.append(len(sentence.split(\" \")))\n",
    "    sum = 0\n",
    "    for length in lengths:\n",
    "        sum = sum+length\n",
    "    \n",
    "    return sum / len(lengths)"
   ]
  },
  {
   "cell_type": "code",
   "execution_count": 7,
   "metadata": {},
   "outputs": [],
   "source": [
    "def syllable_count(word):\n",
    "    word = word.lower()\n",
    "    count = 0\n",
    "    vowels = \"aeiouy\"\n",
    "    if word[0] in vowels:\n",
    "        count += 1\n",
    "    for index in range(1, len(word)):\n",
    "        if word[index] in vowels and word[index - 1] not in vowels:\n",
    "            count += 1\n",
    "    if word.endswith(\"e\"):\n",
    "        count -= 1\n",
    "    if count == 0:\n",
    "        count += 1\n",
    "    return count"
   ]
  },
  {
   "cell_type": "code",
   "execution_count": 8,
   "metadata": {},
   "outputs": [],
   "source": [
    "def avgSyllablePerWord(text):\n",
    "    words = text.split()\n",
    "    sum = 0\n",
    "    for word in words:\n",
    "        sum+=syllable_count(word)\n",
    "    return sum / len(words)"
   ]
  },
  {
   "cell_type": "code",
   "execution_count": 9,
   "metadata": {},
   "outputs": [],
   "source": [
    "femaleGendered = [\"she\", \"her\", \"hers\", \"woman\", \"women\", \"girl\", \"girls\", \"female\"]\n",
    "maleGendered = [\"he\", \"him\", \"his\", \"man\", \"men\", \"boy\", \"boys\", \"male\"]\n",
    "equality = [\"equality\", \"equal\", \"fairness\", \"equal rights\", \"equal opportunities\", \"egalitarian\", \"egalitarianism\", \"equity\",\n",
    "           \"equitability\"]\n",
    "race = [\"white\", \"black\", \"asian\", \"indian\", \"african\", \"caucasian\", \"ethnicity\", \"european\", \"hispanic\", \"indigenous\", \n",
    "       \"racism\", \"minority\", \"race\", \"predjudice\", \"racial\", \"latin\", \"latino\", \"latina\", \"jewish\", \"jew\", \"african american\"\n",
    "       \"whites\", \"blacks\", \"people of color\", \"native american\", \"native\"]\n",
    "religion = [\"religion\", \"jewish\", \"christian\", \"hindu\", \"judaism\", \"hinduism\", \"christianity\", \"lutherian\", \"catholic\", \n",
    "           \"catholocism\", \"protestant\", \"protestantism\", \"god\", \"buddist\", \"buddism\", \"religous\"]"
   ]
  },
  {
   "cell_type": "code",
   "execution_count": 10,
   "metadata": {},
   "outputs": [],
   "source": [
    "def countTerms(text, terms):\n",
    "    wanted = terms\n",
    "    cnt = 0;\n",
    "    words = text.lower().split()\n",
    "    for word in words:\n",
    "        if word in wanted:\n",
    "            cnt += 1\n",
    "    return cnt"
   ]
  },
  {
   "cell_type": "code",
   "execution_count": 11,
   "metadata": {},
   "outputs": [],
   "source": [
    "  \n",
    "from lxml import html\n",
    "import requests\n",
    "\n",
    "r = requests.get(\"https://www.theguardian.com/news/datablog/2012/oct/15/us-presidents-listed\")\n",
    "r.encoding = 'utf-8'\n",
    "tree = html.fromstring(r.content)\n",
    "\n",
    "table = tree.xpath('//table[@class=\"in-article sortable\"]')[0]\n",
    "table = table.xpath('./tbody')[0]\n",
    "rows = table.xpath('./tr')\n",
    "\n",
    "partyDict = {}\n",
    "\n",
    "for row in rows:\n",
    "    cols = row.xpath('./td')\n",
    "    year = cols[0].xpath('./text()')[0].strip()\n",
    "    party = cols[2].xpath('./text()')[0].strip()\n",
    "    #print(year, party)\n",
    "    partyDict[int(year)] = party\n",
    "\n",
    "for y in range(2014, 2021):\n",
    "    if y >= 2017:\n",
    "        party = 'Republican'\n",
    "    else:\n",
    "        party = 'Democrat'\n",
    "    partyDict.update({y:party})\n",
    "    \n",
    "#f = open(\"year_party_data.txt\", \"w+\", encoding='utf-8')\n",
    "#f.write('\\n'.join(data))\n",
    "#f.close()"
   ]
  },
  {
   "cell_type": "code",
   "execution_count": 12,
   "metadata": {},
   "outputs": [],
   "source": [
    "def getPoliticalParty(text):\n",
    "    lines = text.split(\"\\n\")\n",
    "    for line in lines:\n",
    "        if line.startswith(\"<date=\"):\n",
    "            line = line.replace(\"\\\"\", \"\").replace(\">\", \"\").replace(\")\", \"\")\n",
    "            year = int(line[-4:])\n",
    "    partyRaw = partyDict.get(year)\n",
    "    if partyRaw == \"None\":\n",
    "        return 0\n",
    "    elif partyRaw == \"Federalist\":\n",
    "        return 1\n",
    "    elif partyRaw == \"Democratic-Republican\":\n",
    "        return 2\n",
    "    elif partyRaw == \"Whig\":\n",
    "        return 3\n",
    "    elif partyRaw == \"Republican\" and year < 1865:\n",
    "        return 4\n",
    "    elif partyRaw == \"Democrat\" and year < 1865:\n",
    "        return 5\n",
    "    elif partyRaw == \"National Union\":\n",
    "        return 6\n",
    "    elif partyRaw == \"Democrat\" and year >= 1865 and year < 1961:\n",
    "        return 7\n",
    "    elif partyRaw == \"Republican\" and year >= 1865 and year < 1961:\n",
    "        return 8\n",
    "    elif partyRaw == \"Democrat\" and year >= 1961:\n",
    "        return 9\n",
    "    elif partyRaw == \"Republican\" and year >= 1961:\n",
    "        return 10\n",
    " \n",
    "    \n",
    "    \n",
    "    \n",
    "    return partyRaw\n",
    "    "
   ]
  },
  {
   "cell_type": "code",
   "execution_count": 13,
   "metadata": {},
   "outputs": [],
   "source": [
    "column_names = [\"speech\", \"word_count\", \"sentence_count\", \"average_words\",\n",
    "               \"average_syl_per_word\", \"flesch_kincaid_score\",  \"flesch_kincaid_grade_level\",\n",
    "               \"total_gendered_terms\", \"female_gendered_terms\",\n",
    "                \"male_gendered_terms\",\n",
    "               \"terms_of_equality\", \"terms_for_race\", \n",
    "                \"terms_for_religion\", \"political_party\", \"president\", \n",
    "               \"time_period\"]\n",
    "df = pd.DataFrame(columns = column_names)\n",
    "df.set_index(\"speech\")\n",
    "#f = open(\"corpus/adams/adams_speeches_000.txt\", 'r')\n",
    "\n",
    "#reader = csv.reader(f) \n",
    "\n",
    "speeches = []\n",
    "wordCounts = []\n",
    "sentenceCounts = []\n",
    "avgSentCounts = []\n",
    "avgSylCounts = []\n",
    "femaleCounts = []\n",
    "maleCounts = []\n",
    "equalityCounts = []\n",
    "raceCounts = []\n",
    "religionCounts = []\n",
    "presidents = []\n",
    "timePeriods = []\n",
    "parties = []\n",
    "gradeLevels = []\n",
    "\n",
    "# Path is diff depending on where you run from\n",
    "try:\n",
    "    os.listdir('corpus/')\n",
    "    corpus_path = \"corpus/\"\n",
    "    csv_output_path = \"./\"\n",
    "except FileNotFoundError: # Inside /scripts\n",
    "    corpus_path = \"../corpus/\"\n",
    "    csv_output_path = \"../\"\n",
    "    \n",
    "for higherLevelFilename in os.listdir(corpus_path):\n",
    "    for filename in os.listdir(corpus_path+higherLevelFilename):\n",
    "        f = open(corpus_path+higherLevelFilename+\"/\"+filename, 'rt', errors='ignore')\n",
    "        text = f.read()\n",
    "        f.close()\n",
    "        \n",
    "        speeches.append(speechGrab(text))  \n",
    "        presidents.append(higherLevelFilename)\n",
    "        sentenceCounts.append(sentenceCount(text))\n",
    "        wordCounts.append(wordCount(text))\n",
    "        avgSentCounts.append(avgSentLength(text))\n",
    "        avgSylCounts.append(avgSyllablePerWord(text))\n",
    "        femaleCounts.append(countTerms(text, femaleGendered))\n",
    "        maleCounts.append(countTerms(text, maleGendered))\n",
    "        equalityCounts.append(countTerms(text, equality))\n",
    "        raceCounts.append(countTerms(text, race))\n",
    "        religionCounts.append(countTerms(text, religion))\n",
    "        timePeriods.append(getTimePeriod(text))\n",
    "        parties.append(getPoliticalParty(text))\n",
    "\n",
    "df[\"speech\"] = speeches\n",
    "df[\"word_count\"] = wordCounts\n",
    "df[\"sentence_count\"] = sentenceCounts\n",
    "df[\"average_words\"] = avgSentCounts\n",
    "df[\"average_syl_per_word\"] = avgSylCounts\n",
    "df[\"flesch_kincaid_grade_level\"] = (df[\"average_words\"] * 0.39 + df[\"average_syl_per_word\"] * 11.8) - 15.59\n",
    "df[\"female_gendered_terms\"] = femaleCounts\n",
    "df[\"male_gendered_terms\"] = maleCounts\n",
    "df[\"total_gendered_terms\"] = df[\"male_gendered_terms\"] + df[\"female_gendered_terms\"]\n",
    "df[\"terms_of_equality\"] = equalityCounts\n",
    "df[\"terms_for_race\"] = raceCounts\n",
    "df[\"terms_for_religion\"] = religionCounts\n",
    "df[\"president\"] = presidents\n",
    "df[\"time_period\"] = timePeriods\n",
    "df[\"political_party\"] = parties\n",
    "df[\"flesch_kincaid_score\"] = 206.835 - (1.015*df[\"average_words\"]) - (84.6 * df[\"average_syl_per_word\"])"
   ]
  },
  {
   "cell_type": "code",
   "execution_count": 14,
   "metadata": {},
   "outputs": [],
   "source": [
    "df.to_csv(csv_output_path + 'final_proj_dataset.csv')"
   ]
  }
 ],
 "metadata": {
  "colab": {
   "name": "Untitled2.ipynb",
   "provenance": []
  },
  "kernelspec": {
   "display_name": "Python 3",
   "language": "python",
   "name": "python3"
  },
  "language_info": {
   "codemirror_mode": {
    "name": "ipython",
    "version": 3
   },
   "file_extension": ".py",
   "mimetype": "text/x-python",
   "name": "python",
   "nbconvert_exporter": "python",
   "pygments_lexer": "ipython3",
   "version": "3.8.3"
  }
 },
 "nbformat": 4,
 "nbformat_minor": 1
}
