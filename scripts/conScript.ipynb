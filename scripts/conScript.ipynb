{
 "cells": [
  {
   "cell_type": "code",
   "execution_count": 2,
   "metadata": {
    "id": "RMYcy6GDdj89"
   },
   "outputs": [],
   "source": [
    "import pandas as pd\n",
    "import csv\n",
    "import os\n",
    "import collections\n",
    "import re"
   ]
  },
  {
   "cell_type": "code",
   "execution_count": 3,
   "metadata": {},
   "outputs": [],
   "source": [
    "def wordCount(file):\n",
    "    data = file.read()\n",
    "    words = data.split()\n",
    "    return len(words)"
   ]
  },
  {
   "cell_type": "code",
   "execution_count": 4,
   "metadata": {},
   "outputs": [],
   "source": [
    "def sentenceCount(file):\n",
    "    data = file.read()\n",
    "    sentences = data.split(\".\")\n",
    "    return len(sentences)"
   ]
  },
  {
   "cell_type": "code",
   "execution_count": 5,
   "metadata": {},
   "outputs": [],
   "source": [
    "def getTimePeriod(file):\n",
    "    markers = [1780, 1800, 1820, 1840, 1860, 1880, 1900, 1920, 1940, 1960, 1980, 2000, 2020]\n",
    "    s = file.read()\n",
    "    lines = s.split(\"\\n\")\n",
    "    for line in lines:\n",
    "        if line.startswith(\"<date=\"):\n",
    "            date = int(line[len(line)-6:len(line)-2])\n",
    "    for x in range(12):\n",
    "        if date >= markers[x] and date < markers[x+1]:\n",
    "            return int(x)"
   ]
  },
  {
   "cell_type": "code",
   "execution_count": 6,
   "metadata": {},
   "outputs": [],
   "source": [
    "def avgSentLength(file):\n",
    "    data = file.read()\n",
    "    sentences = data.split(\".\")\n",
    "    lengths = []\n",
    "    for sentence in sentences:\n",
    "        lengths.append(len(sentence.split(\" \")))\n",
    "    sum = 0\n",
    "    for length in lengths:\n",
    "        sum = sum+length\n",
    "    \n",
    "    return sum / len(lengths)"
   ]
  },
  {
   "cell_type": "code",
   "execution_count": 7,
   "metadata": {},
   "outputs": [],
   "source": [
    "def syllable_count(word):\n",
    "    word = word.lower()\n",
    "    count = 0\n",
    "    vowels = \"aeiouy\"\n",
    "    if word[0] in vowels:\n",
    "        count += 1\n",
    "    for index in range(1, len(word)):\n",
    "        if word[index] in vowels and word[index - 1] not in vowels:\n",
    "            count += 1\n",
    "    if word.endswith(\"e\"):\n",
    "        count -= 1\n",
    "    if count == 0:\n",
    "        count += 1\n",
    "    return count"
   ]
  },
  {
   "cell_type": "code",
   "execution_count": 8,
   "metadata": {},
   "outputs": [],
   "source": [
    "def avgSyllablePerWord(file):\n",
    "    data = file.read()\n",
    "    words = data.split()\n",
    "    sum = 0\n",
    "    for word in words:\n",
    "        sum+=syllable_count(word)\n",
    "    return sum / len(words)"
   ]
  },
  {
   "cell_type": "code",
   "execution_count": 9,
   "metadata": {},
   "outputs": [],
   "source": [
    "femaleGendered = [\"she\", \"her\", \"hers\", \"woman\", \"women\", \"girl\", \"girls\", \"female\"]\n",
    "maleGendered = [\"he\", \"him\", \"his\", \"man\", \"men\", \"boy\", \"boys\", \"male\"]\n",
    "equality = [\"equality\", \"equal\", \"fairness\", \"equal rights\", \"equal opportunities\", \"egalitarian\", \"egalitarianism\", \"equity\",\n",
    "           \"equitability\"]\n",
    "race = [\"white\", \"black\", \"asian\", \"indian\", \"african\", \"caucasian\", \"ethnicity\", \"european\", \"hispanic\", \"indigenous\", \n",
    "       \"racism\", \"minority\", \"race\", \"predjudice\", \"racial\", \"latin\", \"latino\", \"latina\", \"jewish\", \"jew\", \"african american\"\n",
    "       \"whites\", \"blacks\", \"people of color\", \"native american\", \"native\"]\n",
    "religion = [\"religion\", \"jewish\", \"christian\", \"hindu\", \"judaism\", \"hinduism\", \"christianity\", \"lutherian\", \"catholic\", \n",
    "           \"catholocism\", \"protestant\", \"protestantism\", \"god\", \"buddist\", \"buddism\", \"religous\"]"
   ]
  },
  {
   "cell_type": "code",
   "execution_count": 10,
   "metadata": {},
   "outputs": [],
   "source": [
    "def countTerms(file, terms):\n",
    "    wanted = terms\n",
    "    cnt = 0;\n",
    "    words = file.read().lower().split(\" \")\n",
    "    for word in words:\n",
    "        if word in wanted:\n",
    "            cnt += 1\n",
    "    return cnt"
   ]
  },
  {
   "cell_type": "code",
   "execution_count": 11,
   "metadata": {},
   "outputs": [],
   "source": [
    "  \n",
    "from lxml import html\n",
    "import requests\n",
    "\n",
    "r = requests.get(\"https://www.theguardian.com/news/datablog/2012/oct/15/us-presidents-listed\")\n",
    "r.encoding = 'utf-8'\n",
    "tree = html.fromstring(r.content)\n",
    "\n",
    "table = tree.xpath('//table[@class=\"in-article sortable\"]')[0]\n",
    "table = table.xpath('./tbody')[0]\n",
    "rows = table.xpath('./tr')\n",
    "\n",
    "partyDict = {}\n",
    "\n",
    "for row in rows:\n",
    "    cols = row.xpath('./td')\n",
    "    year = cols[0].xpath('./text()')[0].strip()\n",
    "    party = cols[2].xpath('./text()')[0].strip()\n",
    "    #print(year, party)\n",
    "    partyDict[int(year)] = party\n",
    "\n",
    "    \n",
    "#f = open(\"year_party_data.txt\", \"w+\", encoding='utf-8')\n",
    "#f.write('\\n'.join(data))\n",
    "#f.close()"
   ]
  },
  {
   "cell_type": "code",
   "execution_count": 12,
   "metadata": {},
   "outputs": [],
   "source": [
    "def getPoliticalParty(file):\n",
    "    s = file.read()\n",
    "    lines = s.split(\"\\n\")\n",
    "    for line in lines:\n",
    "        if line.startswith(\"<date=\"):\n",
    "            year = int(line[len(line)-6:len(line)-2])\n",
    "    partyRaw = partyDict.get(year)\n",
    "    if partyRaw == \"None\":\n",
    "        return 0\n",
    "    elif partyRaw == \"Federalist\":\n",
    "        return 1\n",
    "    elif partyRaw == \"Democratic-Republican\":\n",
    "        return 2\n",
    "    elif partyRaw == \"Whig\":\n",
    "        return 3\n",
    "    elif partyRaw == \"Republican\" and year < 1865:\n",
    "        return 4\n",
    "    elif partyRaw == \"Democrat\" and year < 1865:\n",
    "        return 5\n",
    "    elif partyRaw == \"National Union\":\n",
    "        return 6\n",
    "    elif partyRaw == \"Democrat\" and year >= 1865 and year < 1961:\n",
    "        return 7\n",
    "    elif partyRaw == \"Republican\" and year >= 1865 and year < 1961:\n",
    "        return 8\n",
    "    elif partyRaw == \"Democrat\" and year >= 1961:\n",
    "        return 9\n",
    "    elif partyRaw == \"Republican\" and year >= 1961:\n",
    "        return 10\n",
    " \n",
    "    \n",
    "    \n",
    "    \n",
    "    return partyRaw\n",
    "    "
   ]
  },
  {
   "cell_type": "code",
   "execution_count": null,
   "metadata": {},
   "outputs": [],
   "source": [
    "\n",
    "    "
   ]
  },
  {
   "cell_type": "code",
   "execution_count": null,
   "metadata": {},
   "outputs": [],
   "source": [
    "column_names = [\"speech\", \"word_count\", \"sentence_count\", \"average_words\",\n",
    "               \"average_syl_per_word\", \"flesch_kincaid_score\",  \"flesch_kincaid_grade_level\",\n",
    "               \"total_gendered_terms\", \"female_gendered_terms\",\n",
    "                \"male_gendered_terms\",\n",
    "               \"terms_of_equality\", \"terms_for_race\", \n",
    "                \"terms_for_religion\", \"political_party\", \"president\", \n",
    "               \"time_period\"]\n",
    "df = pd.DataFrame(columns = column_names)\n",
    "df.set_index(\"speech\")\n",
    "#f = open(\"corpus/adams/adams_speeches_000.txt\", 'r')\n",
    "\n",
    "#reader = csv.reader(f) \n",
    "\n",
    "speeches = []\n",
    "wordCounts = []\n",
    "sentenceCounts = []\n",
    "avgSentCounts = []\n",
    "avgSylCounts = []\n",
    "femaleCounts = []\n",
    "maleCounts = []\n",
    "equalityCounts = []\n",
    "raceCounts = []\n",
    "religionCounts = []\n",
    "presidents = []\n",
    "timePeriods = []\n",
    "parties = []\n",
    "gradeLevels = []\n",
    "\n",
    "# Path is diff depending on where you run from\n",
    "try:\n",
    "    os.listdir('corpus/')\n",
    "    corpus_path = \"corpus/\"\n",
    "except FileNotFoundError:\n",
    "    corpus_path = \"../corpus/\"\n",
    "    \n",
    "for higherLevelFilename in os.listdir(corpus_path):\n",
    "    #f = open(\"corpus/\" + higherLevelFilename+ \"/\"+filename, 'r')\n",
    "    for filename in os.listdir(corpus_path+higherLevelFilename):\n",
    "        f = open(corpus_path+higherLevelFilename+\"/\"+filename, 'rt', errors='ignore')\n",
    "        speeches.append(f)  \n",
    "        presidents.append(higherLevelFilename)\n",
    "        sentenceCounts.append(sentenceCount(f))\n",
    "        f.close()\n",
    "        f = open(corpus_path+higherLevelFilename+\"/\"+filename, 'rt', errors='ignore')\n",
    "        wordCounts.append(wordCount(f))\n",
    "        f.close()\n",
    "        f = open(corpus_path+higherLevelFilename+\"/\"+filename, 'rt', errors='ignore')\n",
    "        avgSentCounts.append(avgSentLength(f))\n",
    "        f.close()\n",
    "        f = open(corpus_path+higherLevelFilename+\"/\"+filename, 'rt', errors='ignore')\n",
    "        avgSylCounts.append(avgSyllablePerWord(f))\n",
    "        f.close()\n",
    "        f = open(corpus_path+higherLevelFilename+\"/\"+filename, 'rt', errors='ignore')\n",
    "        femaleCounts.append(countTerms(f, femaleGendered))\n",
    "        f.close()\n",
    "        f = open(corpus_path+higherLevelFilename+\"/\"+filename, 'rt', errors='ignore')\n",
    "        maleCounts.append(countTerms(f, maleGendered))\n",
    "        f.close()\n",
    "        f = open(corpus_path+higherLevelFilename+\"/\"+filename, 'rt', errors='ignore')\n",
    "        equalityCounts.append(countTerms(f, equality))\n",
    "        f.close()\n",
    "        f = open(corpus_path+higherLevelFilename+\"/\"+filename, 'rt', errors='ignore')\n",
    "        raceCounts.append(countTerms(f, race))\n",
    "        f.close()\n",
    "        f = open(corpus_path+higherLevelFilename+\"/\"+filename, 'rt', errors='ignore')\n",
    "        religionCounts.append(countTerms(f, religion))\n",
    "        f.close()\n",
    "        f = open(corpus_path+higherLevelFilename+\"/\"+filename, 'rt', errors='ignore')\n",
    "        timePeriods.append(getTimePeriod(f))\n",
    "        f.close()\n",
    "        f = open(corpus_path+higherLevelFilename+\"/\"+filename, 'rt', errors='ignore')\n",
    "        parties.append(getPoliticalParty(f))\n",
    "        f.close()\n",
    "\n",
    "\n",
    "df[\"speech\"] = speeches\n",
    "df[\"word_count\"] = wordCounts\n",
    "df[\"sentence_count\"] = sentenceCounts\n",
    "df[\"average_words\"] = avgSentCounts\n",
    "df[\"average_syl_per_word\"] = avgSylCounts\n",
    "df[\"flesch_kincaid_grade_level\"] = (df[\"average_words\"] * 0.39 + df[\"average_syl_per_word\"] * 11.8) - 15.59\n",
    "df[\"female_gendered_terms\"] = femaleCounts\n",
    "df[\"male_gendered_terms\"] = maleCounts\n",
    "df[\"total_gendered_terms\"] = df[\"male_gendered_terms\"] + df[\"female_gendered_terms\"]\n",
    "df[\"terms_of_equality\"] = equalityCounts\n",
    "df[\"terms_for_race\"] = raceCounts\n",
    "df[\"terms_for_religion\"] = religionCounts\n",
    "df[\"president\"] = presidents\n",
    "df[\"time_period\"] = timePeriods\n",
    "df[\"political_party\"] = parties\n",
    "df[\"flesch_kincaid_score\"] = 206.835 - (1.015*df[\"average_words\"]) - (84.6 * df[\"average_syl_per_word\"])\n",
    "\n"
   ]
  },
  {
   "cell_type": "code",
   "execution_count": null,
   "metadata": {},
   "outputs": [],
   "source": [
    "df"
   ]
  },
  {
   "cell_type": "code",
   "execution_count": 193,
   "metadata": {},
   "outputs": [],
   "source": [
    "df.to_csv(r'final_proj_dataset.csv')"
   ]
  },
  {
   "cell_type": "code",
   "execution_count": null,
   "metadata": {},
   "outputs": [],
   "source": []
  }
 ],
 "metadata": {
  "colab": {
   "name": "Untitled2.ipynb",
   "provenance": []
  },
  "kernelspec": {
   "display_name": "Python 3",
   "language": "python",
   "name": "python3"
  },
  "language_info": {
   "codemirror_mode": {
    "name": "ipython",
    "version": 3
   },
   "file_extension": ".py",
   "mimetype": "text/x-python",
   "name": "python",
   "nbconvert_exporter": "python",
   "pygments_lexer": "ipython3",
   "version": "3.8.3"
  }
 },
 "nbformat": 4,
 "nbformat_minor": 1
}
