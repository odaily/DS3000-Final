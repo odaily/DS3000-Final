{
 "cells": [
  {
   "cell_type": "code",
   "execution_count": 13,
   "metadata": {},
   "outputs": [],
   "source": [
    "import pandas as pd\n",
    "\n",
    "df = pd.read_csv(\"../final_proj_dataset_clean.csv\")\n",
    "df = df.drop(['Unnamed: 0', 'Unnamed: 0.1', 'speech'], axis=1)\n",
    "features = df.drop(['political_party','president','time_period', 'year'], axis=1)\n",
    "target_party = df['political_party']\n",
    "target_pres = df['president']\n",
    "target_period = df['time_period']\n",
    "target_year = df['year']\n",
    "all_targets = {'Political Party':target_party, 'President':target_pres, 'Time Period':target_period, 'Year':target_year}"
   ]
  },
  {
   "cell_type": "code",
   "execution_count": 16,
   "metadata": {},
   "outputs": [],
   "source": [
    "from sklearn.svm import LinearSVC\n",
    "from sklearn.naive_bayes import GaussianNB\n",
    "from sklearn.neighbors import KNeighborsClassifier\n",
    "from sklearn.tree import DecisionTreeClassifier\n",
    "\n",
    "estimators = {\n",
    "    'k-Nearest Neighbor': KNeighborsClassifier(),\n",
    "    'Gaussian Naive Bayes': GaussianNB(),\n",
    "    'Decision Tree': DecisionTreeClassifier()\n",
    "}"
   ]
  },
  {
   "cell_type": "code",
   "execution_count": 17,
   "metadata": {},
   "outputs": [
    {
     "name": "stdout",
     "output_type": "stream",
     "text": [
      "Political Party models:\n",
      "\n",
      "k-Nearest Neighbor:\n",
      "\tMean accuracy: 28.69%, std: 3.48%\n",
      "Gaussian Naive Bayes:\n",
      "\tMean accuracy: 30.79%, std: 1.94%\n",
      "Decision Tree:\n",
      "\tMean accuracy: 37.61%, std: 4.42%\n",
      "\n",
      "\n",
      "President models:\n",
      "\n",
      "k-Nearest Neighbor:\n",
      "\tMean accuracy: 9.33%, std: 2.19%\n",
      "Gaussian Naive Bayes:\n",
      "\tMean accuracy: 17.44%, std: 4.27%\n",
      "Decision Tree:\n",
      "\tMean accuracy: 19.26%, std: 5.18%\n",
      "\n",
      "\n",
      "Time Period models:\n",
      "\n",
      "k-Nearest Neighbor:\n",
      "\tMean accuracy: 21.96%, std: 2.61%\n",
      "Gaussian Naive Bayes:\n",
      "\tMean accuracy: 23.87%, std: 2.79%\n",
      "Decision Tree:\n",
      "\tMean accuracy: 33.60%, std: 2.81%\n",
      "\n",
      "\n",
      "Year models:\n",
      "\n",
      "k-Nearest Neighbor:\n",
      "\tMean accuracy: 2.21%, std: 1.99%\n",
      "Gaussian Naive Bayes:\n",
      "\tMean accuracy: 3.81%, std: 1.41%\n",
      "Decision Tree:\n",
      "\tMean accuracy: 3.61%, std: 1.49%\n",
      "\n",
      "\n",
      "Done!\n"
     ]
    }
   ],
   "source": [
    "from sklearn.model_selection import KFold\n",
    "from sklearn.model_selection import cross_val_score\n",
    "\n",
    "for target_name, target in all_targets.items():\n",
    "    print(f\"{target_name} models:\")\n",
    "    for estimator_name, estimator in estimators.items():\n",
    "        kfold = KFold(n_splits=10, shuffle=True, random_state=820)\n",
    "        scores = cross_val_score(estimator=estimator, X=features, y=target, cv=kfold)\n",
    "        \n",
    "        print(f\"{estimator_name}:\\n\\tMean accuracy: {scores.mean():.2%}, std: {scores.std():.2%}\")\n",
    "    print('\\n')\n",
    "print(\"Done!\")        "
   ]
  },
  {
   "cell_type": "code",
   "execution_count": null,
   "metadata": {},
   "outputs": [],
   "source": []
  }
 ],
 "metadata": {
  "kernelspec": {
   "display_name": "Python 3",
   "language": "python",
   "name": "python3"
  },
  "language_info": {
   "codemirror_mode": {
    "name": "ipython",
    "version": 3
   },
   "file_extension": ".py",
   "mimetype": "text/x-python",
   "name": "python",
   "nbconvert_exporter": "python",
   "pygments_lexer": "ipython3",
   "version": "3.8.3"
  }
 },
 "nbformat": 4,
 "nbformat_minor": 4
}
