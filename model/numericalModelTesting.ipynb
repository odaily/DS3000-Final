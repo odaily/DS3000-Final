{
 "cells": [
  {
   "cell_type": "code",
   "execution_count": 41,
   "metadata": {},
   "outputs": [],
   "source": [
    "import pandas as pd\n",
    "\n",
    "df = pd.read_csv(\"../final_proj_dataset.csv\")\n",
    "df = df.drop(['Unnamed: 0', 'speech'], axis=1)\n",
    "features = df.drop(['political_party','president','time_period'], axis=1)\n",
    "target_party = df['political_party']\n",
    "target_pres = df['president']\n",
    "target_period = df['time_period']\n",
    "all_targets = {'Political Party':target_party, 'President':target_pres, 'Time Period':target_period}"
   ]
  },
  {
   "cell_type": "code",
   "execution_count": 42,
   "metadata": {},
   "outputs": [],
   "source": [
    "from sklearn.svm import LinearSVC\n",
    "from sklearn.naive_bayes import GaussianNB\n",
    "from sklearn.neighbors import KNeighborsClassifier\n",
    "from sklearn.tree import DecisionTreeClassifier\n",
    "\n",
    "estimators = {\n",
    "    'k-Nearest Neighbor': KNeighborsClassifier(),\n",
    "    'Gaussian Naive Bayes': GaussianNB(),\n",
    "    'Decision Tree': DecisionTreeClassifier()\n",
    "}"
   ]
  },
  {
   "cell_type": "code",
   "execution_count": 45,
   "metadata": {},
   "outputs": [
    {
     "name": "stdout",
     "output_type": "stream",
     "text": [
      "Political Party models:\n",
      "k-Nearest Neighbor:\n",
      "\tMean accuracy: 28.08%, std: 4.48%\n",
      "Gaussian Naive Bayes:\n",
      "\tMean accuracy: 30.29%, std: 3.73%\n",
      "Decision Tree:\n",
      "\tMean accuracy: 35.32%, std: 5.29%\n",
      "\n",
      "\n",
      "President models:\n",
      "k-Nearest Neighbor:\n",
      "\tMean accuracy: 9.33%, std: 2.19%\n",
      "Gaussian Naive Bayes:\n",
      "\tMean accuracy: 17.54%, std: 4.48%\n",
      "Decision Tree:\n",
      "\tMean accuracy: 18.06%, std: 4.14%\n",
      "\n",
      "\n",
      "Time Period models:\n",
      "k-Nearest Neighbor:\n",
      "\tMean accuracy: 21.36%, std: 1.83%\n",
      "Gaussian Naive Bayes:\n",
      "\tMean accuracy: 23.96%, std: 3.50%\n",
      "Decision Tree:\n",
      "\tMean accuracy: 32.40%, std: 3.69%\n",
      "\n",
      "\n",
      "Done!\n"
     ]
    }
   ],
   "source": [
    "from sklearn.model_selection import KFold\n",
    "from sklearn.model_selection import cross_val_score\n",
    "ls_scores = []\n",
    "for target_name, target in all_targets.items():\n",
    "    print(f\"{target_name} models:\")\n",
    "    for estimator_name, estimator in estimators.items():\n",
    "        kfold = KFold(n_splits=10, shuffle=True, random_state=820)\n",
    "        scores = cross_val_score(estimator=estimator, X=features, y=target, cv=kfold)\n",
    "        ls_scores.append(scores)\n",
    "        print(f\"{estimator_name}:\\n\\tMean accuracy: {scores.mean():.2%}, std: {scores.std():.2%}\")\n",
    "    print('\\n')\n",
    "print(\"Done!\")        "
   ]
  },
  {
   "cell_type": "code",
   "execution_count": 52,
   "metadata": {},
   "outputs": [],
   "source": [
    "scr = ls_scores[0]"
   ]
  }
 ],
 "metadata": {
  "kernelspec": {
   "display_name": "Python 3",
   "language": "python",
   "name": "python3"
  },
  "language_info": {
   "codemirror_mode": {
    "name": "ipython",
    "version": 3
   },
   "file_extension": ".py",
   "mimetype": "text/x-python",
   "name": "python",
   "nbconvert_exporter": "python",
   "pygments_lexer": "ipython3",
   "version": "3.8.3"
  }
 },
 "nbformat": 4,
 "nbformat_minor": 4
}
